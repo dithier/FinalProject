{
 "cells": [
  {
   "cell_type": "code",
   "execution_count": 1,
   "metadata": {
    "collapsed": true
   },
   "outputs": [],
   "source": [
    "#https://github.com/frc1418/tbapy/blob/master/tbapy/main.py\n",
    "import requests\n",
    "import numpy as np\n",
    "import pandas as pd\n",
    "base_url= \"https://www.thebluealliance.com/api/v3/\"\n",
    "auth_key = 'fge7icVbwIkRUkYKFb7Bj045jGELlWspOnCTxJnhkC9jqiLRjE0VBR4ACcez4vxo'\n",
    "\n",
    "# https://www.dataquest.io/blog/python-api-tutorial/\n",
    "# https://www.digitalocean.com/community/tutorials/how-to-use-web-apis-in-python-3\n",
    "# https://www.dataquest.io/blog/python-api-tutorial/\n",
    "# https://www.dataquest.io/blog/python-api-tutorial/\n",
    "headers = {\"X-TBA-Auth-Key\": auth_key}"
   ]
  },
  {
   "cell_type": "code",
   "execution_count": 14,
   "metadata": {},
   "outputs": [],
   "source": [
    "# https://pandas.pydata.org/pandas-docs/stable/generated/pandas.DataFrame.from_csv.html\n",
    "# https://stackoverflow.com/questions/22341271/get-list-from-pandas-dataframe-column\n",
    "stats = pd.DataFrame.from_csv(\"2017txlu_stats.csv\")\n",
    "teams = stats[\"team\"].tolist()\n"
   ]
  },
  {
   "cell_type": "code",
   "execution_count": 15,
   "metadata": {},
   "outputs": [],
   "source": [
    "event_key = '2017txlu'\n",
    "url = base_url + 'event/' + event_key + '/oprs'\n",
    "response = requests.get(url, headers = headers)\n",
    "data = response.json()\n",
    "ccwms = data[\"ccwms\"]\n",
    "oprs = data[\"oprs\"]\n",
    "dprs = data[\"dprs\"]\n",
    "df_oprs = pd.DataFrame(columns = [\"team\", \"opr\", \"dpr\", \"ccwm\"])"
   ]
  },
  {
   "cell_type": "code",
   "execution_count": 10,
   "metadata": {},
   "outputs": [
    {
     "data": {
      "text/plain": [
       "-1.304490701535686"
      ]
     },
     "execution_count": 10,
     "metadata": {},
     "output_type": "execute_result"
    }
   ],
   "source": [
    "for team in teams:\n",
    "    opr "
   ]
  },
  {
   "cell_type": "code",
   "execution_count": null,
   "metadata": {
    "collapsed": true
   },
   "outputs": [],
   "source": []
  },
  {
   "cell_type": "code",
   "execution_count": null,
   "metadata": {
    "collapsed": true
   },
   "outputs": [],
   "source": []
  }
 ],
 "metadata": {
  "kernelspec": {
   "display_name": "Python 3",
   "language": "python",
   "name": "python3"
  },
  "language_info": {
   "codemirror_mode": {
    "name": "ipython",
    "version": 3
   },
   "file_extension": ".py",
   "mimetype": "text/x-python",
   "name": "python",
   "nbconvert_exporter": "python",
   "pygments_lexer": "ipython3",
   "version": "3.6.1"
  }
 },
 "nbformat": 4,
 "nbformat_minor": 2
}
