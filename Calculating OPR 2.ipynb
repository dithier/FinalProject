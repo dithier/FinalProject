{
 "cells": [
  {
   "cell_type": "code",
   "execution_count": 46,
   "metadata": {
    "collapsed": true
   },
   "outputs": [],
   "source": [
    "import pandas as pd\n",
    "import numpy as np\n",
    "# https://pandas.pydata.org/pandas-docs/stable/generated/pandas.DataFrame.from_csv.html\n",
    "event_key = '2017txlu'\n",
    "matches_file = event_key + '_matches.csv'\n",
    "stats_file = event_key + '_stats.csv'\n",
    "experience_file = event_key + '_rookieyear.csv'\n",
    "matches = pd.DataFrame.from_csv(matches_file)\n",
    "stats = pd.DataFrame.from_csv(stats_file)\n",
    "experience = pd.DataFrame.from_csv(experience_file)\n",
    "teams_df = pd.merge(experience, stats, on = \"team\")"
   ]
  },
  {
   "cell_type": "code",
   "execution_count": 47,
   "metadata": {},
   "outputs": [
    {
     "data": {
      "text/html": [
       "<div>\n",
       "<style>\n",
       "    .dataframe thead tr:only-child th {\n",
       "        text-align: right;\n",
       "    }\n",
       "\n",
       "    .dataframe thead th {\n",
       "        text-align: left;\n",
       "    }\n",
       "\n",
       "    .dataframe tbody tr th {\n",
       "        vertical-align: top;\n",
       "    }\n",
       "</style>\n",
       "<table border=\"1\" class=\"dataframe\">\n",
       "  <thead>\n",
       "    <tr style=\"text-align: right;\">\n",
       "      <th></th>\n",
       "      <th>team</th>\n",
       "      <th>experience</th>\n",
       "    </tr>\n",
       "  </thead>\n",
       "  <tbody>\n",
       "    <tr>\n",
       "      <th>0</th>\n",
       "      <td>frc1164</td>\n",
       "      <td>14</td>\n",
       "    </tr>\n",
       "    <tr>\n",
       "      <th>1</th>\n",
       "      <td>frc118</td>\n",
       "      <td>20</td>\n",
       "    </tr>\n",
       "    <tr>\n",
       "      <th>2</th>\n",
       "      <td>frc1477</td>\n",
       "      <td>13</td>\n",
       "    </tr>\n",
       "    <tr>\n",
       "      <th>3</th>\n",
       "      <td>frc159</td>\n",
       "      <td>19</td>\n",
       "    </tr>\n",
       "    <tr>\n",
       "      <th>4</th>\n",
       "      <td>frc1817</td>\n",
       "      <td>11</td>\n",
       "    </tr>\n",
       "  </tbody>\n",
       "</table>\n",
       "</div>"
      ],
      "text/plain": [
       "      team  experience\n",
       "0  frc1164          14\n",
       "1   frc118          20\n",
       "2  frc1477          13\n",
       "3   frc159          19\n",
       "4  frc1817          11"
      ]
     },
     "execution_count": 47,
     "metadata": {},
     "output_type": "execute_result"
    }
   ],
   "source": [
    "experience.head()"
   ]
  },
  {
   "cell_type": "code",
   "execution_count": 3,
   "metadata": {
    "collapsed": true
   },
   "outputs": [],
   "source": [
    "teams = experience[\"team\"].tolist()\n",
    "teams.append(\"score\")\n",
    "df_teams = pd.DataFrame(columns = teams)\n",
    "qm = matches.loc[matches[\"level\"] == \"qm\"]"
   ]
  },
  {
   "cell_type": "code",
   "execution_count": 4,
   "metadata": {},
   "outputs": [
    {
     "data": {
      "text/plain": [
       "array([[  1.10000000e+01,   1.00000000e+00,   1.00000000e+00, ...,\n",
       "          1.00000000e+00,   0.00000000e+00,   1.82300000e+03],\n",
       "       [  1.00000000e+00,   1.10000000e+01,   0.00000000e+00, ...,\n",
       "          0.00000000e+00,   0.00000000e+00,   2.28000000e+03],\n",
       "       [  1.00000000e+00,   0.00000000e+00,   1.10000000e+01, ...,\n",
       "          1.00000000e+00,   1.00000000e+00,   2.51700000e+03],\n",
       "       ..., \n",
       "       [  1.00000000e+00,   0.00000000e+00,   1.00000000e+00, ...,\n",
       "          1.10000000e+01,   1.00000000e+00,   1.63200000e+03],\n",
       "       [  0.00000000e+00,   0.00000000e+00,   1.00000000e+00, ...,\n",
       "          1.00000000e+00,   1.10000000e+01,   1.93000000e+03],\n",
       "       [  0.00000000e+00,   0.00000000e+00,   0.00000000e+00, ...,\n",
       "          0.00000000e+00,   0.00000000e+00,   0.00000000e+00]])"
      ]
     },
     "execution_count": 4,
     "metadata": {},
     "output_type": "execute_result"
    }
   ],
   "source": [
    "# https://erikrood.com/Python_References/rows_cols_python.html\n",
    "# https://pandas.pydata.org/pandas-docs/stable/generated/pandas.DataFrame.reset_index.html\n",
    "# http://book.pythontips.com/en/latest/enumerate.html\n",
    "# # https://stackoverflow.com/questions/22963263/creating-a-zero-filled-pandas-data-frame\n",
    "# https://www.chiefdelphi.com/media/papers/2174\n",
    "# https://www.chiefdelphi.com/forums/showthread.php?t=101390\n",
    "# https://blog.thebluealliance.com/2017/10/05/the-math-behind-opr-an-introduction/\n",
    "m = np.zeros((len(teams), len(teams)))\n",
    "for counter, team in enumerate(teams):\n",
    "    # create dataframe of only games played by one team\n",
    "    blue_team = qm.loc[(qm[\"b1\"] == team) | (qm[\"b2\"] == team) | (qm[\"b3\"] == team)]\n",
    "    red_team = qm.loc[(qm[\"r1\"] == team) | (qm[\"r2\"] == team) | (qm[\"r3\"] == team)]\n",
    "    indiv_team = pd.concat([blue_team, red_team])\n",
    "    indiv_team.reset_index(inplace = True)\n",
    "    matrix = pd.DataFrame(0, index = np.arange(len(indiv_team)), columns = teams)\n",
    "    # update dataframe with scores and who played in the match\n",
    "    for index, row in indiv_team.iterrows():\n",
    "        b1 = row[\"b1\"]\n",
    "        b2 = row[\"b2\"]\n",
    "        b3 = row[\"b3\"]\n",
    "        blue = []\n",
    "        blue.extend([b1, b2, b3])\n",
    "        bscore = row[\"bscore\"]\n",
    "        r1 = row[\"r1\"]\n",
    "        r2 = row[\"r2\"]\n",
    "        r3 = row[\"r3\"]\n",
    "        red = []\n",
    "        red.extend([r1, r2, r3])\n",
    "        rscore = row[\"rscore\"]\n",
    "        if team in blue:\n",
    "            matrix.loc[index, b1] = 1\n",
    "            matrix.loc[index, b2] = 1\n",
    "            matrix.loc[index, b3] = 1\n",
    "            matrix.loc[index, \"score\"] = bscore\n",
    "        else:\n",
    "            matrix.loc[index, r1] = 1\n",
    "            matrix.loc[index, r2] = 1\n",
    "            matrix.loc[index, r3] = 1\n",
    "            matrix.loc[index, \"score\"] = rscore\n",
    "    new_row = matrix.sum(axis = 0)\n",
    "    m[counter, :] = new_row\n",
    "m"
   ]
  },
  {
   "cell_type": "code",
   "execution_count": 42,
   "metadata": {},
   "outputs": [
    {
     "data": {
      "text/plain": [
       "array([[ 11.,   1.,   1., ...,   0.,   1.,   0.],\n",
       "       [  1.,  11.,   0., ...,   0.,   0.,   0.],\n",
       "       [  1.,   0.,  11., ...,   1.,   1.,   1.],\n",
       "       ..., \n",
       "       [  1.,   0.,   1., ...,   1.,  11.,   1.],\n",
       "       [  0.,   0.,   1., ...,   1.,   1.,  11.],\n",
       "       [  0.,   0.,   0., ...,   0.,   0.,   0.]])"
      ]
     },
     "execution_count": 42,
     "metadata": {},
     "output_type": "execute_result"
    }
   ],
   "source": [
    "# grab info that is teams only\n",
    "M = m.copy()\n",
    "M = M[:, 0:len(teams)-1]\n",
    "M"
   ]
  },
  {
   "cell_type": "code",
   "execution_count": 43,
   "metadata": {},
   "outputs": [
    {
     "data": {
      "text/plain": [
       "array([ 1823.,  2280.,  2517.,  1909.,  2045.,  2227.,  2240.,  1925.,\n",
       "        2041.,  1601.,  1943.,  2591.,  1850.,  1742.,  1608.,  1562.,\n",
       "        2521.,  1455.,  1941.,  1799.,  1858.,  1482.,     0.,  1278.,\n",
       "        1992.,  1678.,  1674.,  2122.,  1807.,  1186.,  1785.,  1476.,\n",
       "        1810.,  1694.,  2254.,  1501.,  1497.,  1288.,  1745.,  1844.,\n",
       "        1406.,  1519.,  1626.,  2133.,  1632.,  1930.,     0.])"
      ]
     },
     "execution_count": 43,
     "metadata": {},
     "output_type": "execute_result"
    }
   ],
   "source": [
    "# grab info that is scores only\n",
    "s = m.copy()\n",
    "s = s[:, -1]\n",
    "s"
   ]
  },
  {
   "cell_type": "code",
   "execution_count": 44,
   "metadata": {},
   "outputs": [],
   "source": [
    "# https://docs.scipy.org/doc/numpy-dev/user/numpy-for-matlab-users.html\n",
    "# https://docs.scipy.org/doc/numpy-1.13.0/reference/generated/numpy.linalg.lstsq.html\n",
    "OPR = np.linalg.lstsq(M,s)[0]"
   ]
  },
  {
   "cell_type": "code",
   "execution_count": 49,
   "metadata": {},
   "outputs": [
    {
     "data": {
      "text/plain": [
       "118.23478943973753"
      ]
     },
     "execution_count": 49,
     "metadata": {},
     "output_type": "execute_result"
    }
   ],
   "source": [
    "OPR[2]"
   ]
  },
  {
   "cell_type": "code",
   "execution_count": 28,
   "metadata": {},
   "outputs": [
    {
     "data": {
      "text/plain": [
       "47"
      ]
     },
     "execution_count": 28,
     "metadata": {},
     "output_type": "execute_result"
    }
   ],
   "source": [
    "len(teams)\n"
   ]
  },
  {
   "cell_type": "code",
   "execution_count": 66,
   "metadata": {
    "collapsed": true
   },
   "outputs": [],
   "source": [
    "m = np.zeros((len(teams), len(teams)))\n",
    "for counter, team in enumerate(teams):\n",
    "    # create dataframe of only games played by one team\n",
    "    blue_team = qm.loc[(qm[\"b1\"] == team) | (qm[\"b2\"] == team) | (qm[\"b3\"] == team)]\n",
    "    red_team = qm.loc[(qm[\"r1\"] == team) | (qm[\"r2\"] == team) | (qm[\"r3\"] == team)]\n",
    "    indiv_team = pd.concat([blue_team, red_team])\n",
    "    indiv_team.reset_index(inplace = True)\n",
    "    matrix = pd.DataFrame(0, index = np.arange(len(indiv_team)), columns = teams)\n",
    "    # update dataframe with scores and who played in the match\n",
    "    for index, row in indiv_team.iterrows():\n",
    "        b1 = row[\"b1\"]\n",
    "        b2 = row[\"b2\"]\n",
    "        b3 = row[\"b3\"]\n",
    "        blue = []\n",
    "        blue.extend([b1, b2, b3])\n",
    "        bscore = row[\"bscore\"]\n",
    "        r1 = row[\"r1\"]\n",
    "        r2 = row[\"r2\"]\n",
    "        r3 = row[\"r3\"]\n",
    "        red = []\n",
    "        red.extend([r1, r2, r3])\n",
    "        rscore = row[\"rscore\"]\n",
    "        if team in blue:\n",
    "            matrix.loc[index, b1] = 1\n",
    "            matrix.loc[index, b2] = 1\n",
    "            matrix.loc[index, b3] = 1\n",
    "            matrix.loc[index, \"score\"] = rscore\n",
    "        else:\n",
    "            matrix.loc[index, r1] = 1\n",
    "            matrix.loc[index, r2] = 1\n",
    "            matrix.loc[index, r3] = 1\n",
    "            matrix.loc[index, \"score\"] = bscore\n",
    "    new_row = matrix.sum(axis = 0)\n",
    "    m[counter, :] = new_row"
   ]
  },
  {
   "cell_type": "code",
   "execution_count": 67,
   "metadata": {
    "collapsed": true
   },
   "outputs": [],
   "source": [
    "M = m.copy()\n",
    "M = M[:, 0:len(teams)-1]\n",
    "s = m.copy()\n",
    "s = s[:, -1]\n",
    "DPR = np.linalg.lstsq(M,s)[0]"
   ]
  },
  {
   "cell_type": "code",
   "execution_count": 68,
   "metadata": {},
   "outputs": [
    {
     "data": {
      "text/html": [
       "<div>\n",
       "<style>\n",
       "    .dataframe thead tr:only-child th {\n",
       "        text-align: right;\n",
       "    }\n",
       "\n",
       "    .dataframe thead th {\n",
       "        text-align: left;\n",
       "    }\n",
       "\n",
       "    .dataframe tbody tr th {\n",
       "        vertical-align: top;\n",
       "    }\n",
       "</style>\n",
       "<table border=\"1\" class=\"dataframe\">\n",
       "  <thead>\n",
       "    <tr style=\"text-align: right;\">\n",
       "      <th></th>\n",
       "      <th>team</th>\n",
       "      <th>OPR</th>\n",
       "      <th>DPR</th>\n",
       "      <th>CCWM</th>\n",
       "    </tr>\n",
       "  </thead>\n",
       "  <tbody>\n",
       "    <tr>\n",
       "      <th>0</th>\n",
       "      <td>frc1164</td>\n",
       "      <td>41.842873</td>\n",
       "      <td>43.147364</td>\n",
       "      <td>NaN</td>\n",
       "    </tr>\n",
       "    <tr>\n",
       "      <th>1</th>\n",
       "      <td>frc118</td>\n",
       "      <td>109.437287</td>\n",
       "      <td>49.938890</td>\n",
       "      <td>NaN</td>\n",
       "    </tr>\n",
       "    <tr>\n",
       "      <th>2</th>\n",
       "      <td>frc1477</td>\n",
       "      <td>118.234789</td>\n",
       "      <td>12.249579</td>\n",
       "      <td>NaN</td>\n",
       "    </tr>\n",
       "    <tr>\n",
       "      <th>3</th>\n",
       "      <td>frc159</td>\n",
       "      <td>51.352990</td>\n",
       "      <td>44.305976</td>\n",
       "      <td>NaN</td>\n",
       "    </tr>\n",
       "    <tr>\n",
       "      <th>4</th>\n",
       "      <td>frc1817</td>\n",
       "      <td>78.688407</td>\n",
       "      <td>1.981109</td>\n",
       "      <td>NaN</td>\n",
       "    </tr>\n",
       "  </tbody>\n",
       "</table>\n",
       "</div>"
      ],
      "text/plain": [
       "      team         OPR        DPR  CCWM\n",
       "0  frc1164   41.842873  43.147364   NaN\n",
       "1   frc118  109.437287  49.938890   NaN\n",
       "2  frc1477  118.234789  12.249579   NaN\n",
       "3   frc159   51.352990  44.305976   NaN\n",
       "4  frc1817   78.688407   1.981109   NaN"
      ]
     },
     "execution_count": 68,
     "metadata": {},
     "output_type": "execute_result"
    }
   ],
   "source": [
    "df_OPR = pd.DataFrame(columns = [\"team\", \"OPR\", \"DPR\", \"CCWM\"])\n",
    "for counter, team in enumerate(teams):\n",
    "    if team != \"score\":\n",
    "        df_OPR = df_OPR.append({\"team\": team, \"OPR\": OPR[counter], \"DPR\": DPR[counter]}, ignore_index = True)\n",
    "df_OPR.head()"
   ]
  },
  {
   "cell_type": "code",
   "execution_count": 69,
   "metadata": {
    "collapsed": true
   },
   "outputs": [],
   "source": [
    "def ccwm(row):\n",
    "    return row[\"OPR\"] - row[\"DPR\"]\n",
    "        "
   ]
  },
  {
   "cell_type": "code",
   "execution_count": 70,
   "metadata": {},
   "outputs": [
    {
     "data": {
      "text/html": [
       "<div>\n",
       "<style>\n",
       "    .dataframe thead tr:only-child th {\n",
       "        text-align: right;\n",
       "    }\n",
       "\n",
       "    .dataframe thead th {\n",
       "        text-align: left;\n",
       "    }\n",
       "\n",
       "    .dataframe tbody tr th {\n",
       "        vertical-align: top;\n",
       "    }\n",
       "</style>\n",
       "<table border=\"1\" class=\"dataframe\">\n",
       "  <thead>\n",
       "    <tr style=\"text-align: right;\">\n",
       "      <th></th>\n",
       "      <th>team</th>\n",
       "      <th>OPR</th>\n",
       "      <th>DPR</th>\n",
       "      <th>CCWM</th>\n",
       "    </tr>\n",
       "  </thead>\n",
       "  <tbody>\n",
       "    <tr>\n",
       "      <th>0</th>\n",
       "      <td>frc1164</td>\n",
       "      <td>41.842873</td>\n",
       "      <td>43.147364</td>\n",
       "      <td>-1.304491</td>\n",
       "    </tr>\n",
       "    <tr>\n",
       "      <th>1</th>\n",
       "      <td>frc118</td>\n",
       "      <td>109.437287</td>\n",
       "      <td>49.938890</td>\n",
       "      <td>59.498398</td>\n",
       "    </tr>\n",
       "    <tr>\n",
       "      <th>2</th>\n",
       "      <td>frc1477</td>\n",
       "      <td>118.234789</td>\n",
       "      <td>12.249579</td>\n",
       "      <td>105.985210</td>\n",
       "    </tr>\n",
       "    <tr>\n",
       "      <th>3</th>\n",
       "      <td>frc159</td>\n",
       "      <td>51.352990</td>\n",
       "      <td>44.305976</td>\n",
       "      <td>7.047014</td>\n",
       "    </tr>\n",
       "    <tr>\n",
       "      <th>4</th>\n",
       "      <td>frc1817</td>\n",
       "      <td>78.688407</td>\n",
       "      <td>1.981109</td>\n",
       "      <td>76.707298</td>\n",
       "    </tr>\n",
       "  </tbody>\n",
       "</table>\n",
       "</div>"
      ],
      "text/plain": [
       "      team         OPR        DPR        CCWM\n",
       "0  frc1164   41.842873  43.147364   -1.304491\n",
       "1   frc118  109.437287  49.938890   59.498398\n",
       "2  frc1477  118.234789  12.249579  105.985210\n",
       "3   frc159   51.352990  44.305976    7.047014\n",
       "4  frc1817   78.688407   1.981109   76.707298"
      ]
     },
     "execution_count": 70,
     "metadata": {},
     "output_type": "execute_result"
    }
   ],
   "source": [
    "df_OPR[\"CCWM\"] = df_OPR.apply(ccwm, axis = 1)\n",
    "df_OPR.head()"
   ]
  },
  {
   "cell_type": "code",
   "execution_count": 71,
   "metadata": {
    "collapsed": true
   },
   "outputs": [],
   "source": [
    "name = event_key + '_opr.csv'\n",
    "df_OPR.to_csv(name)"
   ]
  },
  {
   "cell_type": "code",
   "execution_count": null,
   "metadata": {
    "collapsed": true
   },
   "outputs": [],
   "source": []
  }
 ],
 "metadata": {
  "kernelspec": {
   "display_name": "Python 3",
   "language": "python",
   "name": "python3"
  },
  "language_info": {
   "codemirror_mode": {
    "name": "ipython",
    "version": 3
   },
   "file_extension": ".py",
   "mimetype": "text/x-python",
   "name": "python",
   "nbconvert_exporter": "python",
   "pygments_lexer": "ipython3",
   "version": "3.6.1"
  }
 },
 "nbformat": 4,
 "nbformat_minor": 2
}
