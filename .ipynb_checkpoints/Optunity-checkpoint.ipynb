{
 "cells": [
  {
   "cell_type": "code",
   "execution_count": 1,
   "metadata": {
    "collapsed": true
   },
   "outputs": [],
   "source": [
    "\n",
    "import optunity\n",
    "import optunity.metrics\n",
    "from sklearn.svm import SVR\n",
    "from sklearn.pipeline import Pipeline\n"
   ]
  },
  {
   "cell_type": "code",
   "execution_count": 4,
   "metadata": {},
   "outputs": [],
   "source": [
    "from sklearn.datasets import load_diabetes\n",
    "from sklearn.model_selection import train_test_split\n",
    "diabetes = load_diabetes()\n",
    "n = diabetes.data.shape[0]\n",
    "\n",
    "data = diabetes.data\n",
    "targets = diabetes.target\n",
    "X_train,X_test,y_train,y_test = train_test_split(data,targets,test_size = 0.3,random_state = 5)\n"
   ]
  },
  {
   "cell_type": "code",
   "execution_count": 14,
   "metadata": {},
   "outputs": [],
   "source": [
    "from sklearn import preprocessing\n",
    "\n",
    "outer_cv = optunity.cross_validated(x=data, y = targets, num_folds =3)\n",
    "def compute_mse_rbf_tuned(X_train, y_train, x_test, y_test):\n",
    "    \"\"\" Computes MSE of an SVR with RBF kernel and optimised hyperparameters\"\"\"\n",
    "    # define objective function for tuning\n",
    "    @optunity.cross_validated(x = X_train, y = y_train, num_iter = 2, num_folds = 5)\n",
    "    def tune_cv(X_train, y_train, X_test, y_test, C, gamma):\n",
    "        pipe = Pipeline([('scaler', preprocessing.StandardScaler()), ('svr', SVR(C = C, gamma = gamma))])\n",
    "        model = pipe.fit(X_train, y_train)\n",
    "        predictions = pip.predict(X_test)\n",
    "        return optunity.metrics.mse(y_test, predictions)\n",
    "    \n",
    "    # optimize parameters\n",
    "    optimal_pars, _, _ = optunity.minimize(tune_cv, 150, C = [1, 100], gamma = [0,50])\n",
    "    print(\"optimal hyperparameters: \" + str(optimal_pars))\n",
    "    \n",
    "    pipe = Pipeline([('scaler', preprocessing.StandardScaler()), ('svr', SVR(**optimal_pars))])\n",
    "    tuned_model = pipe.fit(X_train, y_train)\n",
    "    predictions = tuned_model.predict(X_test)\n",
    "    return optunity.metrics.mse(y_test, predictions)\n",
    "\n",
    "# wrap with outer cross-validation\n",
    "compute_mse_rbf_tuned1 = outer_cv(compute_mse_rbf_tuned)"
   ]
  },
  {
   "cell_type": "code",
   "execution_count": null,
   "metadata": {
    "collapsed": true
   },
   "outputs": [],
   "source": []
  }
 ],
 "metadata": {
  "kernelspec": {
   "display_name": "Python 3",
   "language": "python",
   "name": "python3"
  },
  "language_info": {
   "codemirror_mode": {
    "name": "ipython",
    "version": 3
   },
   "file_extension": ".py",
   "mimetype": "text/x-python",
   "name": "python",
   "nbconvert_exporter": "python",
   "pygments_lexer": "ipython3",
   "version": "3.6.1"
  }
 },
 "nbformat": 4,
 "nbformat_minor": 2
}
