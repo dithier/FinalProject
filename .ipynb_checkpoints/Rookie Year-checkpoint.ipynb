{
 "cells": [
  {
   "cell_type": "code",
   "execution_count": 26,
   "metadata": {
    "collapsed": true
   },
   "outputs": [],
   "source": [
    "#https://github.com/frc1418/tbapy/blob/master/tbapy/main.py\n",
    "import requests\n",
    "import numpy as np\n",
    "import pandas as pd\n",
    "base_url= \"https://www.thebluealliance.com/api/v3/\"\n",
    "auth_key = 'fge7icVbwIkRUkYKFb7Bj045jGELlWspOnCTxJnhkC9jqiLRjE0VBR4ACcez4vxo'\n",
    "\n",
    "# https://www.dataquest.io/blog/python-api-tutorial/\n",
    "# https://www.digitalocean.com/community/tutorials/how-to-use-web-apis-in-python-3\n",
    "# https://www.dataquest.io/blog/python-api-tutorial/\n",
    "# https://www.dataquest.io/blog/python-api-tutorial/\n",
    "headers = {\"X-TBA-Auth-Key\": auth_key}\n"
   ]
  },
  {
   "cell_type": "code",
   "execution_count": 35,
   "metadata": {},
   "outputs": [],
   "source": [
    "# format url for request and make request\n",
    "# https://pandas.pydata.org/pandas-docs/stable/generated/pandas.DataFrame.to_csv.html\n",
    "\n",
    "event_key = '2017txlu'\n",
    "url_teams = 'teams'\n",
    "url = base_url + 'event/' + event_key + '/' + url_teams\n",
    "response = requests.get(url, headers = headers)\n",
    "data = response.json()\n",
    "\n",
    "# create a dataframe of the team and rookie year\n",
    "# https://pandas.pydata.org/pandas-docs/stable/generated/pandas.DataFrame.append.html\n",
    "df_rookieyear = pd.DataFrame(columns = [\"team\", \"experience\"])\n",
    "for i in range(0, len(data)):\n",
    "    name = data[i][\"key\"]\n",
    "    year = 2017 - data[i][\"rookie_year\"]\n",
    "    df_rookieyear = df_rookieyear.append({\"team\": name, \"experience\": year}, ignore_index = True)\n",
    "\n",
    "\n"
   ]
  },
  {
   "cell_type": "code",
   "execution_count": null,
   "metadata": {
    "collapsed": true
   },
   "outputs": [],
   "source": [
    "# https://pandas.pydata.org/pandas-docs/stable/generated/pandas.DataFrame.to_csv.html\n",
    "path = 'C:/Users/Ithier/Documents/CSCI 29/Grad Project/FIRST/Data/'\n",
    "name = path + event_key + '_rookieyear.csv'\n",
    "df_rookieyear.to_csv(name)"
   ]
  }
 ],
 "metadata": {
  "kernelspec": {
   "display_name": "Python 3",
   "language": "python",
   "name": "python3"
  },
  "language_info": {
   "codemirror_mode": {
    "name": "ipython",
    "version": 3
   },
   "file_extension": ".py",
   "mimetype": "text/x-python",
   "name": "python",
   "nbconvert_exporter": "python",
   "pygments_lexer": "ipython3",
   "version": "3.6.1"
  }
 },
 "nbformat": 4,
 "nbformat_minor": 2
}
