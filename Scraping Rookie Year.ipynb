{
 "cells": [
  {
   "cell_type": "code",
   "execution_count": 28,
   "metadata": {},
   "outputs": [
    {
     "data": {
      "text/plain": [
       "'\\n From\\n        \\n          Alton, New Hampshire, USA\\n\\n aka Symbotic/SPS New England/Podmore Manufacturing/NDEP/OPTICS 1&Prospect Mountain High School\\n Rookie Year: 1999\\n http://www.frc319.com\\n Home Championship: St. Louis, 2017  | Detroit, 2018+ \\n\\n Add Social Media!\\n\\n\\n\\nfrc319\\n\\n'"
      ]
     },
     "execution_count": 28,
     "metadata": {},
     "output_type": "execute_result"
    }
   ],
   "source": [
    "# https://www.dataquest.io/blog/web-scraping-tutorial-python/\n",
    "import requests\n",
    "from bs4 import BeautifulSoup\n",
    "\n",
    "page = requests.get(\"https://www.thebluealliance.com/team/319/2018\")\n",
    "soup = BeautifulSoup(page.content, \"html.parser\")\n",
    "p = soup.find_all(\"p\")[0].get_text()\n",
    "p"
   ]
  },
  {
   "cell_type": "code",
   "execution_count": 29,
   "metadata": {},
   "outputs": [
    {
     "data": {
      "text/plain": [
       "1999"
      ]
     },
     "execution_count": 29,
     "metadata": {},
     "output_type": "execute_result"
    }
   ],
   "source": [
    "# https://stackoverflow.com/questions/12572362/get-a-string-after-a-specific-substring\n",
    "keyword = \"Year: \"\n",
    "length = len(keyword)\n",
    "test = p.index(keyword)\n",
    "index_start = test + length\n",
    "index_end = index_start + 4\n",
    "rookie_year = int(p[index_start:index_end])\n",
    "rookie_year"
   ]
  },
  {
   "cell_type": "code",
   "execution_count": null,
   "metadata": {
    "collapsed": true
   },
   "outputs": [],
   "source": []
  }
 ],
 "metadata": {
  "kernelspec": {
   "display_name": "Python 3",
   "language": "python",
   "name": "python3"
  },
  "language_info": {
   "codemirror_mode": {
    "name": "ipython",
    "version": 3
   },
   "file_extension": ".py",
   "mimetype": "text/x-python",
   "name": "python",
   "nbconvert_exporter": "python",
   "pygments_lexer": "ipython3",
   "version": "3.6.1"
  }
 },
 "nbformat": 4,
 "nbformat_minor": 2
}
