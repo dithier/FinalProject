{
 "cells": [
  {
   "cell_type": "markdown",
   "metadata": {
    "collapsed": true
   },
   "source": [
    "# CSCI 29 Final Project"
   ]
  },
  {
   "cell_type": "markdown",
   "metadata": {},
   "source": [
    "For my final project I have decided to make a machine learning model to predict the win margin between two alliances in the 2017 FIRST Robotics competition. The description of the competition can be seen here: https://www.youtube.com/watch?v=EMiNmJW7enI&t=7s. After training the regressor I will classify the matches as a win, loss, or tie and look at the performance of the model based on the precision, recall, f1 score, and accuracy."
   ]
  },
  {
   "cell_type": "code",
   "execution_count": 41,
   "metadata": {
    "collapsed": true
   },
   "outputs": [],
   "source": [
    "# First let's import the main libraries we need to manage the data\n",
    "from functools import reduce\n",
    "import requests\n",
    "import numpy as np\n",
    "import pandas as pd\n",
    "import scipy.sparse\n",
    "import scipy.sparse.linalg\n",
    "# https://github.com/frc1418/tbapy/blob/master/tbapy/main.py\n",
    "# Base url and authorization key for the Blue Alliance API we will be using to scrape data\n",
    "base_url= \"https://www.thebluealliance.com/api/v3/\"\n",
    "auth_key = 'fge7icVbwIkRUkYKFb7Bj045jGELlWspOnCTxJnhkC9jqiLRjE0VBR4ACcez4vxo'\n",
    "\n",
    "# https://www.dataquest.io/blog/python-api-tutorial/\n",
    "# https://www.digitalocean.com/community/tutorials/how-to-use-web-apis-in-python-3\n",
    "# https://www.dataquest.io/blog/python-api-tutorial/\n",
    "# https://www.dataquest.io/blog/python-api-tutorial/\n",
    "headers = {\"X-TBA-Auth-Key\": auth_key}\n",
    "\n",
    "# Path to where to save files \n",
    "path = 'C:/Users/Ithier/Documents/CSCI 29/Grad Project/FIRST/Data/'"
   ]
  },
  {
   "cell_type": "markdown",
   "metadata": {},
   "source": [
    "There were 255 events in the 2017 season. The API is set up to have information of each event based on an event key. Let's get all of the keys for the events."
   ]
  },
  {
   "cell_type": "code",
   "execution_count": 186,
   "metadata": {
    "collapsed": true
   },
   "outputs": [],
   "source": [
    "# Get a list of the event keys we are going to go through\n",
    "url = base_url + 'events/2017'\n",
    "response = requests.get(url, headers = headers)\n",
    "data = response.json()\n",
    "event_keys = []\n",
    "for i in range(0,len(data)):\n",
    "    event_keys.append(data[i][\"key\"])"
   ]
  },
  {
   "cell_type": "markdown",
   "metadata": {},
   "source": [
    "### Helper Functions"
   ]
  },
  {
   "cell_type": "markdown",
   "metadata": {},
   "source": [
    "Let's define some helper functions before we get started."
   ]
  },
  {
   "cell_type": "code",
   "execution_count": 187,
   "metadata": {
    "collapsed": true
   },
   "outputs": [],
   "source": [
    "# Get the number of years the team has existed\n",
    "def get_experience(event_key, headers):\n",
    "    \"\"\" \n",
    "        @param event_key: the event we are interested in\n",
    "        @param headers: the authorizations key\n",
    "        @return df_rookie_year: a dataframe with the teams and the number of years each team has existed\n",
    "    \"\"\"\n",
    "    url = base_url + 'event/' + event_key + '/teams'\n",
    "    response = requests.get(url, headers = headers)\n",
    "    data = response.json()\n",
    "\n",
    "    # create a dataframe of the team and rookie year\n",
    "    # https://pandas.pydata.org/pandas-docs/stable/generated/pandas.DataFrame.append.html\n",
    "    # https://stackoverflow.com/questions/42524415/need-help-in-python-for-json-data-scraping\n",
    "    df_rookieyear = pd.DataFrame(columns = [\"team\", \"experience\"])\n",
    "    for i in range(0, len(data)):\n",
    "        name = data[i][\"key\"]\n",
    "        year = 2017 - data[i][\"rookie_year\"]\n",
    "        df_rookieyear = df_rookieyear.append({\"team\": name, \"experience\": year}, ignore_index = True)\n",
    "    return df_rookieyear"
   ]
  },
  {
   "cell_type": "code",
   "execution_count": 188,
   "metadata": {
    "collapsed": true
   },
   "outputs": [],
   "source": [
    "# Get stats on the team like number of wins and losses\n",
    "def get_stats(event_key, headers):\n",
    "    \"\"\" \n",
    "        @param event_key: the event we are interested in\n",
    "        @param headers: the authorizations key\n",
    "        @return df_stats: a dataframe with the teams and stats for that team like number of wins, losses, ties, etc\n",
    "    \"\"\"\n",
    "    url = base_url + 'event/' + event_key + '/rankings'\n",
    "    response = requests.get(url, headers = headers)\n",
    "    data = response.json()\n",
    "    rankings = data[\"rankings\"]\n",
    "    df_stats = pd.DataFrame(columns = [\"team\", \"rank\", \"wins\", \"losses\", \"ties\", \"points\", \"auto\", \"rotor\", \"touchpad\", \"pressure\"])\n",
    "    for i in range(0, len(rankings)):\n",
    "        team = rankings[i][\"team_key\"]\n",
    "        rank = rankings[i][\"rank\"]\n",
    "        wins = rankings[i][\"record\"][\"wins\"]\n",
    "        losses = rankings[i][\"record\"][\"losses\"]\n",
    "        ties = rankings[i][\"record\"][\"ties\"]\n",
    "        points = rankings[i][\"sort_orders\"][1] # match points\n",
    "        auto = rankings[i][\"sort_orders\"][2] # points gained in autonomous mode\n",
    "        rotor = rankings[i][\"sort_orders\"][3] # points gained from getting enough gears to spin a rotor\n",
    "        touchpad = rankings[i][\"sort_orders\"][4] # points gained from climbing a rope at the end of the game\n",
    "        pressure = rankings[i][\"sort_orders\"][5] # points gained from shooting balls into the boiler\n",
    "        # https://pandas.pydata.org/pandas-docs/stable/generated/pandas.DataFrame.append.html\n",
    "        df_stats = df_stats.append({\"team\": team, \"rank\": rank, \"wins\": wins, \"losses\": losses, \"ties\": ties, \"points\": points, \"auto\": auto, \"rotor\": rotor, \"touchpad\": touchpad, \"pressure\": pressure}, ignore_index = True)\n",
    "    return df_stats"
   ]
  },
  {
   "cell_type": "code",
   "execution_count": 189,
   "metadata": {
    "collapsed": true
   },
   "outputs": [],
   "source": [
    "# Get the match data for the competition\n",
    "def get_matches(event_key, headers):\n",
    "    \"\"\" \n",
    "        @param event_key: the event we are interested in\n",
    "        @param headers: the authorizations key\n",
    "        @return df_matches: a dataframe with the blue alliance teams and score and the red alliance team and score\n",
    "    \"\"\"\n",
    "    url = base_url + 'event/' + event_key + '/matches/simple'\n",
    "    response = requests.get(url, headers = headers)\n",
    "    data = response.json()\n",
    "    df_matches = pd.DataFrame(columns = [\"b1\", \"b2\", \"b3\", \"bscore\", \"r1\", \"r2\", \"r3\", \"rscore\", \"level\"])\n",
    "    for i in range(0, len(data)):\n",
    "        # get teams that are on the blue alliance\n",
    "        b1 = data[i][\"alliances\"][\"blue\"][\"team_keys\"][0]\n",
    "        b2 = data[i][\"alliances\"][\"blue\"][\"team_keys\"][1]\n",
    "        b3 = data[i][\"alliances\"][\"blue\"][\"team_keys\"][2]\n",
    "        # get blue alliance score\n",
    "        bscore = data[i][\"alliances\"][\"blue\"][\"score\"]\n",
    "        # get teams that are on the red alliance\n",
    "        r1 = data[i][\"alliances\"][\"red\"][\"team_keys\"][0]\n",
    "        r2 = data[i][\"alliances\"][\"red\"][\"team_keys\"][1]\n",
    "        r3 = data[i][\"alliances\"][\"red\"][\"team_keys\"][2]\n",
    "        # get red alliance score\n",
    "        rscore = data[i][\"alliances\"][\"red\"][\"score\"]\n",
    "        # get level of competition (qualification matches vs elimination matches)\n",
    "        level = data[i][\"comp_level\"]\n",
    "        df_matches = df_matches.append({\"b1\": b1, \"b2\": b2, \"b3\": b3, \"bscore\": bscore, \"r1\": r1, \"r2\": r2, \"r3\": r3, \"rscore\": rscore, \"level\": level}, ignore_index = True)\n",
    "    return df_matches\n",
    "    "
   ]
  },
  {
   "cell_type": "markdown",
   "metadata": {},
   "source": [
    "Matches are played between two alliances made of three robots each. For each game we will need to solidify the statistics of the three teams of each alliance. The below function takes the sum and average of different statistics to create our features for the machine learning model."
   ]
  },
  {
   "cell_type": "code",
   "execution_count": 190,
   "metadata": {
    "collapsed": true
   },
   "outputs": [],
   "source": [
    "# Create alliance info like average rank, average OPR, total number of wins, etc\n",
    "def alliance(row, teams):\n",
    "    \"\"\" \n",
    "        @param row: row from lambda fn using apply\n",
    "        @param teams: dataframe with team statistic information\n",
    "        @return : series with information of each alliance\n",
    "    \"\"\"\n",
    "    # blue stats\n",
    "    blue = teams.loc[(teams[\"team\"] == row[0]) | (teams[\"team\"] == row[1]) | (teams[\"team\"] == row[2])]\n",
    "    b_score = row[3]\n",
    "    blue = blue.copy()\n",
    "    blue.drop([\"team\"], axis = 1, inplace = True)\n",
    "    # get the sum of things we want\n",
    "    sum_blue = blue.apply(np.sum, axis = 0)\n",
    "    b_experience = sum_blue[\"experience\"]\n",
    "    b_wins = sum_blue[\"wins\"]\n",
    "    b_losses = sum_blue[\"losses\"]\n",
    "    b_ties = sum_blue[\"ties\"]\n",
    "    b_points = sum_blue[\"points\"]\n",
    "    b_auto = sum_blue[\"auto\"]\n",
    "    b_rotor = sum_blue[\"rotor\"]\n",
    "    b_touchpad = sum_blue[\"touchpad\"]\n",
    "    b_pressure = sum_blue[\"pressure\"]\n",
    "    # get the average of things we want\n",
    "    avg_blue = blue.apply(np.mean, axis = 0)\n",
    "    b_rank = avg_blue[\"rank\"]\n",
    "    b_OPR = avg_blue[\"OPR\"]\n",
    "    b_DPR = avg_blue[\"DPR\"]\n",
    "    b_CCWM = avg_blue[\"CCWM\"]\n",
    "    \n",
    "    # Red stats\n",
    "    red = teams.loc[(teams[\"team\"] == row[4]) | (teams[\"team\"] == row[5]) | (teams[\"team\"] == row[6])]\n",
    "    r_score = row[7]\n",
    "    red = red.copy()\n",
    "    red.drop([\"team\"], axis = 1, inplace = True)\n",
    "    # get the sum of things we want\n",
    "    sum_red = red.apply(np.sum, axis = 0)\n",
    "    r_experience = sum_red[\"experience\"]\n",
    "    r_wins = sum_red[\"wins\"]\n",
    "    r_losses = sum_red[\"losses\"]\n",
    "    r_ties = sum_red[\"ties\"]\n",
    "    r_points = sum_red[\"points\"]\n",
    "    r_auto = sum_red[\"auto\"]\n",
    "    r_rotor = sum_red[\"rotor\"]\n",
    "    r_touchpad = sum_red[\"touchpad\"]\n",
    "    r_pressure = sum_red[\"pressure\"]\n",
    "    # get the average of things we want\n",
    "    avg_red = red.apply(np.mean, axis = 0)\n",
    "    r_rank = avg_red[\"rank\"]\n",
    "    r_OPR = avg_red[\"OPR\"]\n",
    "    r_DPR = avg_red[\"DPR\"]\n",
    "    r_CCWM = avg_red[\"CCWM\"]\n",
    "    # get level of competition (qualification vs elimanation)\n",
    "    level = row[\"level\"]\n",
    "    \n",
    "    return pd.Series([b_score, r_score, b_experience, b_wins, b_losses, b_ties, b_points, b_auto, b_rotor, b_touchpad, b_pressure, b_rank, b_OPR, b_DPR, b_CCWM, r_experience, r_wins, r_losses, r_ties, r_points, r_auto, r_rotor, r_touchpad, r_pressure, r_rank, r_OPR, r_DPR, r_CCWM, level])\n",
    "\n",
    "def calculateAlliance(matches, teams):\n",
    "    \"\"\" \n",
    "        @param matches: dataframe with match information\n",
    "        @param teams: dataframe with team statistics\n",
    "        @return df: dataframe with alliance statistics that are summed or averaged of the individual teams\n",
    "    \"\"\"\n",
    "    df = matches.apply(lambda row: alliance(row, teams), axis = 1)\n",
    "    df.columns = [\"b_score\", \"r_score\", \"b_experience\", \"b_wins\", \"b_losses\", \"b_ties\", \"b_points\", \"b_auto\", \"b_rotor\", \"b_touchpad\", \"b_pressure\", \"b_rank\", \"b_OPR\", \"b_DPR\", \"b_CCWM\", \"r_experience\", \"r_wins\", \"r_losses\", \"r_ties\", \"r_points\", \"r_auto\", \"r_rotor\", \"r_touchpad\", \"r_pressure\", \"r_rank\", \"r_OPR\", \"r_DPR\", \"r_CCWM\", \"level\"]\n",
    "    return df"
   ]
  },
  {
   "cell_type": "markdown",
   "metadata": {},
   "source": [
    "In the below cells we have generated three features: Offensive Player Rating (OPR), Defensive Player Rating (DPR), and Calculated Contribution to Winning Margin (CCWM). OPR is a calculation of a team's contribution to their alliances final score. According to the Blue Alliance blog, OPR is based on the assumption that \"an alliance's final score is a linear combination of each alliance member's individual contribution.\" DPR is a calculation of a team's contribution to their opponent's score. Thus the lower the DPR, the better the team is at defense. CCWM is a measure of how much of a positive impact a robot has on its alliance. To learn more about the math behind these calculations see the following links:\n",
    "https://blog.thebluealliance.com/2017/10/05/the-math-behind-opr-an-introduction/\n",
    "https://www.chiefdelphi.com/forums/showthread.php?t=103917&goto=nextoldest\n",
    "https://www.chiefdelphi.com/media/papers/2174"
   ]
  },
  {
   "cell_type": "code",
   "execution_count": 191,
   "metadata": {
    "collapsed": true
   },
   "outputs": [],
   "source": [
    "# Get the offensive player rating (OPR)\n",
    "# https://erikrood.com/Python_References/rows_cols_python.html\n",
    "# https://pandas.pydata.org/pandas-docs/stable/generated/pandas.DataFrame.reset_index.html\n",
    "# http://book.pythontips.com/en/latest/enumerate.html\n",
    "# # https://stackoverflow.com/questions/22963263/creating-a-zero-filled-pandas-data-frame\n",
    "def OPR(teams, qm):\n",
    "    \"\"\" \n",
    "        @param teams: list of team names\n",
    "        @param qm: dataframe with qualification match information\n",
    "        @return OPR: list with OPR scores for each team\n",
    "    \"\"\"\n",
    "    teams.append(\"score\")\n",
    "    m = np.zeros((len(teams), len(teams)))\n",
    "    for counter, team in enumerate(teams):\n",
    "        # create dataframe of only games played by one team\n",
    "        blue_team = qm.loc[(qm[\"b1\"] == team) | (qm[\"b2\"] == team) | (qm[\"b3\"] == team)]\n",
    "        red_team = qm.loc[(qm[\"r1\"] == team) | (qm[\"r2\"] == team) | (qm[\"r3\"] == team)]\n",
    "        indiv_team = pd.concat([blue_team, red_team])\n",
    "        indiv_team.reset_index(inplace = True)\n",
    "        matrix = pd.DataFrame(0, index = np.arange(len(indiv_team)), columns = teams)\n",
    "        # update dataframe with scores and who played in the match\n",
    "        for index, row in indiv_team.iterrows():\n",
    "            b1 = row[\"b1\"]\n",
    "            b2 = row[\"b2\"]\n",
    "            b3 = row[\"b3\"]\n",
    "            blue = []\n",
    "            blue.extend([b1, b2, b3])\n",
    "            bscore = row[\"bscore\"]\n",
    "            r1 = row[\"r1\"]\n",
    "            r2 = row[\"r2\"]\n",
    "            r3 = row[\"r3\"]\n",
    "            red = []\n",
    "            red.extend([r1, r2, r3])\n",
    "            rscore = row[\"rscore\"]\n",
    "            if team in blue:\n",
    "                matrix.loc[index, b1] = 1\n",
    "                matrix.loc[index, b2] = 1\n",
    "                matrix.loc[index, b3] = 1\n",
    "                matrix.loc[index, \"score\"] = bscore\n",
    "            else:\n",
    "                matrix.loc[index, r1] = 1\n",
    "                matrix.loc[index, r2] = 1\n",
    "                matrix.loc[index, r3] = 1\n",
    "                matrix.loc[index, \"score\"] = rscore\n",
    "        new_row = matrix.sum(axis = 0)\n",
    "        m[counter, :] = new_row\n",
    "    M = m.copy()\n",
    "    M = M[:, 0:len(teams)-1]\n",
    "    sM = scipy.sparse.csr_matrix(M)\n",
    "    s = m.copy()\n",
    "    s = s[:, -1]\n",
    "    OPR = scipy.sparse.linalg.lsqr(sM,s)[0]\n",
    "    return OPR"
   ]
  },
  {
   "cell_type": "code",
   "execution_count": 192,
   "metadata": {
    "collapsed": true
   },
   "outputs": [],
   "source": [
    "# Get the defensive player rating (DPR)\n",
    "def DPR(teams, qm):\n",
    "    \"\"\" \n",
    "        @param teams: list of team names\n",
    "        @param qm: dataframe with qualification match information\n",
    "        @return DPR: list with DPR scores for each team\n",
    "    \"\"\"\n",
    "    m = np.zeros((len(teams), len(teams)))\n",
    "    for counter, team in enumerate(teams):\n",
    "        # create dataframe of only games played by one team\n",
    "        blue_team = qm.loc[(qm[\"b1\"] == team) | (qm[\"b2\"] == team) | (qm[\"b3\"] == team)]\n",
    "        red_team = qm.loc[(qm[\"r1\"] == team) | (qm[\"r2\"] == team) | (qm[\"r3\"] == team)]\n",
    "        indiv_team = pd.concat([blue_team, red_team])\n",
    "        indiv_team.reset_index(inplace = True)\n",
    "        matrix = pd.DataFrame(0, index = np.arange(len(indiv_team)), columns = teams)\n",
    "        # update dataframe with scores and who played in the match\n",
    "        for index, row in indiv_team.iterrows():\n",
    "            b1 = row[\"b1\"]\n",
    "            b2 = row[\"b2\"]\n",
    "            b3 = row[\"b3\"]\n",
    "            blue = []\n",
    "            blue.extend([b1, b2, b3])\n",
    "            bscore = row[\"bscore\"]\n",
    "            r1 = row[\"r1\"]\n",
    "            r2 = row[\"r2\"]\n",
    "            r3 = row[\"r3\"]\n",
    "            red = []\n",
    "            red.extend([r1, r2, r3])\n",
    "            rscore = row[\"rscore\"]\n",
    "            if team in blue:\n",
    "                matrix.loc[index, b1] = 1\n",
    "                matrix.loc[index, b2] = 1\n",
    "                matrix.loc[index, b3] = 1\n",
    "                matrix.loc[index, \"score\"] = rscore\n",
    "            else:\n",
    "                matrix.loc[index, r1] = 1\n",
    "                matrix.loc[index, r2] = 1\n",
    "                matrix.loc[index, r3] = 1\n",
    "                matrix.loc[index, \"score\"] = bscore\n",
    "        new_row = matrix.sum(axis = 0)\n",
    "        m[counter, :] = new_row\n",
    "    M = m.copy()\n",
    "    M = M[:, 0:len(teams)-1]\n",
    "    #https://docs.scipy.org/doc/scipy-0.18.1/reference/generated/scipy.sparse.linalg.lsqr.html\n",
    "    #https://stackoverflow.com/questions/7922487/how-to-transform-numpy-matrix-or-array-to-scipy-sparse-matrix\n",
    "    sM = scipy.sparse.csr_matrix(M)\n",
    "    s = m.copy()\n",
    "    s = s[:, -1]\n",
    "    DPR = scipy.sparse.linalg.lsqr(sM, s)[0]\n",
    "    return DPR"
   ]
  },
  {
   "cell_type": "code",
   "execution_count": 193,
   "metadata": {
    "collapsed": true
   },
   "outputs": [],
   "source": [
    "def CCWM(row):\n",
    "    \"\"\"\n",
    "    @param row: row from apply fn\n",
    "    @return: CCWM for teams\n",
    "    \"\"\"\n",
    "    return row[\"OPR\"] - row[\"DPR\"]"
   ]
  },
  {
   "cell_type": "code",
   "execution_count": 194,
   "metadata": {
    "collapsed": true
   },
   "outputs": [],
   "source": [
    "# Function to get OPR, DPR, and Calculated Contribution to Winning Margin (CCWM) and put it in one dataframe\n",
    "def get_OPR(teams, qm):\n",
    "    \"\"\" \n",
    "        @param teams: list of team names\n",
    "        @param qm: dataframe with qualification match information\n",
    "        @return df_OPR: dataframe with OPR, DPR, and CCWM for each team\n",
    "    \n",
    "    \"\"\"\n",
    "    opr = OPR(teams, qm)\n",
    "    dpr = DPR(teams, qm)\n",
    "    df_OPR = pd.DataFrame(columns = [\"team\", \"OPR\", \"DPR\", \"CCWM\"])\n",
    "    for counter, team in enumerate(teams):\n",
    "        if team != \"score\":\n",
    "            df_OPR = df_OPR.append({\"team\": team, \"OPR\": opr[counter], \"DPR\": dpr[counter]}, ignore_index = True)\n",
    "    df_OPR[\"CCWM\"] = df_OPR.apply(CCWM, axis = 1)\n",
    "    return df_OPR"
   ]
  },
  {
   "cell_type": "code",
   "execution_count": 195,
   "metadata": {
    "collapsed": true
   },
   "outputs": [],
   "source": [
    "def win_margin(row):\n",
    "    \"\"\"\n",
    "    @param row: row from apply function\n",
    "    @return: win margin of blue alliance to red alliance\n",
    "    \"\"\"\n",
    "    return row[\"b_score\"] - row[\"r_score\"]"
   ]
  },
  {
   "cell_type": "markdown",
   "metadata": {},
   "source": [
    "### Scraping Data"
   ]
  },
  {
   "cell_type": "markdown",
   "metadata": {},
   "source": [
    "Now let's scrape the data from the Blue Alliance API. We will get the info for all of the events in 2017. It's possible that a team competed in multiple events and their rankings and statistics might be different for each event so we will process each event separately and save the event data to a csv."
   ]
  },
  {
   "cell_type": "code",
   "execution_count": 196,
   "metadata": {},
   "outputs": [
    {
     "name": "stdout",
     "output_type": "stream",
     "text": [
      "No data for 2017aroz\n",
      "No data for 2017audd\n",
      "No data for 2017aurb\n",
      "No data for 2017bt\n",
      "No data for 2017cacc\n",
      "No data for 2017cacg\n",
      "No data for 2017capb\n",
      "No data for 2017ckw0\n",
      "The exact solution is  x = 0                              \n",
      "The exact solution is  x = 0                              \n",
      "The exact solution is  x = 0                              \n",
      "The exact solution is  x = 0                              \n",
      "No data for 2017crc\n",
      "No data for 2017crc2\n",
      "No data for 2017ctss\n",
      "No data for 2017flmm\n",
      "No data for 2017flrc\n",
      "No data for 2017gagr\n",
      "No data for 2017glbbb\n",
      "No data for 2017havoc\n",
      "No data for 2017inbbb\n",
      "No data for 2017incm\n",
      "No data for 2017inrg\n",
      "No data for 2017iroc\n",
      "No data for 2017kscup\n",
      "No data for 2017kybb\n",
      "No data for 2017mabsb\n",
      "No data for 2017marc\n",
      "No data for 2017mems\n",
      "No data for 2017mibb\n",
      "The exact solution is  x = 0                              \n",
      "The exact solution is  x = 0                              \n",
      "No data for 2017mike0\n",
      "No data for 2017mnmn\n",
      "No data for 2017mnw0\n",
      "No data for 2017mogw\n",
      "No data for 2017mosc\n",
      "No data for 2017mttd\n",
      "No data for 2017mvrc\n",
      "No data for 2017ncth2\n",
      "The exact solution is  x = 0                              \n",
      "The exact solution is  x = 0                              \n",
      "No data for 2017nhmm\n",
      "No data for 2017njbe\n",
      "No data for 2017njdd\n",
      "No data for 2017nyhhh\n",
      "No data for 2017nyhvr\n",
      "No data for 2017nyrr\n",
      "No data for 2017nytv\n",
      "No data for 2017ohri\n",
      "No data for 2017onsc\n",
      "No data for 2017orbb\n",
      "No data for 2017orgg\n",
      "No data for 2017pagp\n",
      "No data for 2017parr\n",
      "No data for 2017pascs\n",
      "No data for 2017scriw\n",
      "No data for 2017tnvfrr\n",
      "No data for 2017turk\n",
      "No data for 2017txntx\n",
      "No data for 2017txrm\n",
      "No data for 2017vamars\n",
      "No data for 2017varr\n",
      "No data for 2017warr\n",
      "No data for 2017wmri\n",
      "No data for 2017wowcmp\n"
     ]
    }
   ],
   "source": [
    "# Generate a df with all of the features and targets we want and save to file for each event\n",
    "\n",
    "event_keys_toload = [] # keep track of which events we have data for\n",
    "for event in event_keys:\n",
    "    try:\n",
    "        experience = get_experience(event, headers)\n",
    "        stats = get_stats(event, headers)\n",
    "        matches = get_matches(event, headers)\n",
    "        # get quarterfinal matches\n",
    "        qm = matches.loc[matches[\"level\"] == \"qm\"]\n",
    "        # https://stackoverflow.com/questions/1966207/converting-numpy-array-into-python-list-structure\n",
    "        teams = experience[\"team\"].tolist()\n",
    "        opr = get_OPR(teams, qm)\n",
    "        my_dfs = [experience, stats, opr]\n",
    "        total_stats = reduce(lambda x,y: pd.merge(x,y, on = \"team\"), my_dfs)\n",
    "        df = calculateAlliance(matches, total_stats)\n",
    "        df[\"win_margin\"] = df.apply(win_margin, axis = 1)\n",
    "        name = path + event + '.csv'\n",
    "        df.to_csv(name)\n",
    "        event_keys_toload.append(event)\n",
    "    except:\n",
    "        print(\"No data for \" + event)"
   ]
  },
  {
   "cell_type": "markdown",
   "metadata": {},
   "source": [
    "Now let's load the data from each of the events and make one big dataframe with it."
   ]
  },
  {
   "cell_type": "code",
   "execution_count": 197,
   "metadata": {
    "collapsed": true
   },
   "outputs": [],
   "source": [
    "# Load all of the event data and make one big dataframe\n",
    "# # https://pandas.pydata.org/pandas-docs/stable/generated/pandas.DataFrame.append.html\n",
    "for counter, event in enumerate(event_keys_toload):\n",
    "    filename = path + event + '.csv'\n",
    "    if counter == 0:\n",
    "        combined_df = pd.DataFrame.from_csv(filename)\n",
    "    else:\n",
    "        df = pd.DataFrame.from_csv(filename)\n",
    "        combined_df = combined_df.append(df)\n",
    "\n"
   ]
  },
  {
   "cell_type": "code",
   "execution_count": 198,
   "metadata": {},
   "outputs": [
    {
     "name": "stdout",
     "output_type": "stream",
     "text": [
      "2017cmpmo has null values\n",
      "2017cmptx has null values\n",
      "2017micmp has null values\n",
      "2017nhfoc has null values\n",
      "2017onsi has null values\n"
     ]
    }
   ],
   "source": [
    "# Check to see if we have any null values\n",
    "for event in event_keys_toload:\n",
    "    filename = path + event + '.csv'\n",
    "    df =  pd.DataFrame.from_csv(filename)\n",
    "    nulls = df.isnull().values.any()\n",
    "    if nulls:\n",
    "        print(event + \" has null values\")"
   ]
  },
  {
   "cell_type": "code",
   "execution_count": 199,
   "metadata": {},
   "outputs": [
    {
     "data": {
      "text/html": [
       "<div>\n",
       "<style>\n",
       "    .dataframe thead tr:only-child th {\n",
       "        text-align: right;\n",
       "    }\n",
       "\n",
       "    .dataframe thead th {\n",
       "        text-align: left;\n",
       "    }\n",
       "\n",
       "    .dataframe tbody tr th {\n",
       "        vertical-align: top;\n",
       "    }\n",
       "</style>\n",
       "<table border=\"1\" class=\"dataframe\">\n",
       "  <thead>\n",
       "    <tr style=\"text-align: right;\">\n",
       "      <th></th>\n",
       "      <th>b_score</th>\n",
       "      <th>r_score</th>\n",
       "      <th>b_experience</th>\n",
       "      <th>b_wins</th>\n",
       "      <th>b_losses</th>\n",
       "      <th>b_ties</th>\n",
       "      <th>b_points</th>\n",
       "      <th>b_auto</th>\n",
       "      <th>b_rotor</th>\n",
       "      <th>b_touchpad</th>\n",
       "      <th>...</th>\n",
       "      <th>r_auto</th>\n",
       "      <th>r_rotor</th>\n",
       "      <th>r_touchpad</th>\n",
       "      <th>r_pressure</th>\n",
       "      <th>r_rank</th>\n",
       "      <th>r_OPR</th>\n",
       "      <th>r_DPR</th>\n",
       "      <th>r_CCWM</th>\n",
       "      <th>level</th>\n",
       "      <th>win_margin</th>\n",
       "    </tr>\n",
       "  </thead>\n",
       "  <tbody>\n",
       "    <tr>\n",
       "      <th>0</th>\n",
       "      <td>-1</td>\n",
       "      <td>-1</td>\n",
       "      <td>NaN</td>\n",
       "      <td>NaN</td>\n",
       "      <td>NaN</td>\n",
       "      <td>NaN</td>\n",
       "      <td>NaN</td>\n",
       "      <td>NaN</td>\n",
       "      <td>NaN</td>\n",
       "      <td>NaN</td>\n",
       "      <td>...</td>\n",
       "      <td>430.0</td>\n",
       "      <td>1560.0</td>\n",
       "      <td>1450.0</td>\n",
       "      <td>0.0</td>\n",
       "      <td>7.666667</td>\n",
       "      <td>53.187259</td>\n",
       "      <td>70.833976</td>\n",
       "      <td>-17.646716</td>\n",
       "      <td>qf</td>\n",
       "      <td>0</td>\n",
       "    </tr>\n",
       "    <tr>\n",
       "      <th>1</th>\n",
       "      <td>-1</td>\n",
       "      <td>-1</td>\n",
       "      <td>NaN</td>\n",
       "      <td>NaN</td>\n",
       "      <td>NaN</td>\n",
       "      <td>NaN</td>\n",
       "      <td>NaN</td>\n",
       "      <td>NaN</td>\n",
       "      <td>NaN</td>\n",
       "      <td>NaN</td>\n",
       "      <td>...</td>\n",
       "      <td>430.0</td>\n",
       "      <td>1560.0</td>\n",
       "      <td>1450.0</td>\n",
       "      <td>0.0</td>\n",
       "      <td>7.666667</td>\n",
       "      <td>53.187259</td>\n",
       "      <td>70.833976</td>\n",
       "      <td>-17.646716</td>\n",
       "      <td>qf</td>\n",
       "      <td>0</td>\n",
       "    </tr>\n",
       "    <tr>\n",
       "      <th>2</th>\n",
       "      <td>-1</td>\n",
       "      <td>-1</td>\n",
       "      <td>28.0</td>\n",
       "      <td>8.0</td>\n",
       "      <td>9.0</td>\n",
       "      <td>0.0</td>\n",
       "      <td>2725.0</td>\n",
       "      <td>675.0</td>\n",
       "      <td>1720.0</td>\n",
       "      <td>800.0</td>\n",
       "      <td>...</td>\n",
       "      <td>465.0</td>\n",
       "      <td>1680.0</td>\n",
       "      <td>1050.0</td>\n",
       "      <td>0.0</td>\n",
       "      <td>12.666667</td>\n",
       "      <td>73.142312</td>\n",
       "      <td>64.921745</td>\n",
       "      <td>8.220567</td>\n",
       "      <td>qf</td>\n",
       "      <td>0</td>\n",
       "    </tr>\n",
       "    <tr>\n",
       "      <th>3</th>\n",
       "      <td>-1</td>\n",
       "      <td>-1</td>\n",
       "      <td>28.0</td>\n",
       "      <td>8.0</td>\n",
       "      <td>9.0</td>\n",
       "      <td>0.0</td>\n",
       "      <td>2725.0</td>\n",
       "      <td>675.0</td>\n",
       "      <td>1720.0</td>\n",
       "      <td>800.0</td>\n",
       "      <td>...</td>\n",
       "      <td>465.0</td>\n",
       "      <td>1680.0</td>\n",
       "      <td>1050.0</td>\n",
       "      <td>0.0</td>\n",
       "      <td>12.666667</td>\n",
       "      <td>73.142312</td>\n",
       "      <td>64.921745</td>\n",
       "      <td>8.220567</td>\n",
       "      <td>qf</td>\n",
       "      <td>0</td>\n",
       "    </tr>\n",
       "    <tr>\n",
       "      <th>4</th>\n",
       "      <td>-1</td>\n",
       "      <td>-1</td>\n",
       "      <td>28.0</td>\n",
       "      <td>8.0</td>\n",
       "      <td>9.0</td>\n",
       "      <td>0.0</td>\n",
       "      <td>2725.0</td>\n",
       "      <td>675.0</td>\n",
       "      <td>1720.0</td>\n",
       "      <td>800.0</td>\n",
       "      <td>...</td>\n",
       "      <td>465.0</td>\n",
       "      <td>1680.0</td>\n",
       "      <td>1050.0</td>\n",
       "      <td>0.0</td>\n",
       "      <td>12.666667</td>\n",
       "      <td>73.142312</td>\n",
       "      <td>64.921745</td>\n",
       "      <td>8.220567</td>\n",
       "      <td>qf</td>\n",
       "      <td>0</td>\n",
       "    </tr>\n",
       "  </tbody>\n",
       "</table>\n",
       "<p>5 rows × 30 columns</p>\n",
       "</div>"
      ],
      "text/plain": [
       "   b_score  r_score  b_experience  b_wins  b_losses  b_ties  b_points  b_auto  \\\n",
       "0       -1       -1           NaN     NaN       NaN     NaN       NaN     NaN   \n",
       "1       -1       -1           NaN     NaN       NaN     NaN       NaN     NaN   \n",
       "2       -1       -1          28.0     8.0       9.0     0.0    2725.0   675.0   \n",
       "3       -1       -1          28.0     8.0       9.0     0.0    2725.0   675.0   \n",
       "4       -1       -1          28.0     8.0       9.0     0.0    2725.0   675.0   \n",
       "\n",
       "   b_rotor  b_touchpad     ...      r_auto  r_rotor  r_touchpad  r_pressure  \\\n",
       "0      NaN         NaN     ...       430.0   1560.0      1450.0         0.0   \n",
       "1      NaN         NaN     ...       430.0   1560.0      1450.0         0.0   \n",
       "2   1720.0       800.0     ...       465.0   1680.0      1050.0         0.0   \n",
       "3   1720.0       800.0     ...       465.0   1680.0      1050.0         0.0   \n",
       "4   1720.0       800.0     ...       465.0   1680.0      1050.0         0.0   \n",
       "\n",
       "      r_rank      r_OPR      r_DPR     r_CCWM  level  win_margin  \n",
       "0   7.666667  53.187259  70.833976 -17.646716     qf           0  \n",
       "1   7.666667  53.187259  70.833976 -17.646716     qf           0  \n",
       "2  12.666667  73.142312  64.921745   8.220567     qf           0  \n",
       "3  12.666667  73.142312  64.921745   8.220567     qf           0  \n",
       "4  12.666667  73.142312  64.921745   8.220567     qf           0  \n",
       "\n",
       "[5 rows x 30 columns]"
      ]
     },
     "execution_count": 199,
     "metadata": {},
     "output_type": "execute_result"
    }
   ],
   "source": [
    "# Check a file that has null values\n",
    "filename = path + '2017onsi.csv'\n",
    "onsi = pd.DataFrame.from_csv(filename)\n",
    "onsi.head()"
   ]
  },
  {
   "cell_type": "markdown",
   "metadata": {},
   "source": [
    "Uh oh, it looks like we have some null values in our data set and negative scores which don't make sense. Let's filter those out."
   ]
  },
  {
   "cell_type": "code",
   "execution_count": 200,
   "metadata": {},
   "outputs": [
    {
     "data": {
      "text/html": [
       "<div>\n",
       "<style>\n",
       "    .dataframe thead tr:only-child th {\n",
       "        text-align: right;\n",
       "    }\n",
       "\n",
       "    .dataframe thead th {\n",
       "        text-align: left;\n",
       "    }\n",
       "\n",
       "    .dataframe tbody tr th {\n",
       "        vertical-align: top;\n",
       "    }\n",
       "</style>\n",
       "<table border=\"1\" class=\"dataframe\">\n",
       "  <thead>\n",
       "    <tr style=\"text-align: right;\">\n",
       "      <th></th>\n",
       "      <th>b_score</th>\n",
       "      <th>r_score</th>\n",
       "      <th>b_experience</th>\n",
       "      <th>b_wins</th>\n",
       "      <th>b_losses</th>\n",
       "      <th>b_ties</th>\n",
       "      <th>b_points</th>\n",
       "      <th>b_auto</th>\n",
       "      <th>b_rotor</th>\n",
       "      <th>b_touchpad</th>\n",
       "      <th>...</th>\n",
       "      <th>r_points</th>\n",
       "      <th>r_auto</th>\n",
       "      <th>r_rotor</th>\n",
       "      <th>r_touchpad</th>\n",
       "      <th>r_pressure</th>\n",
       "      <th>r_rank</th>\n",
       "      <th>r_OPR</th>\n",
       "      <th>r_DPR</th>\n",
       "      <th>r_CCWM</th>\n",
       "      <th>win_margin</th>\n",
       "    </tr>\n",
       "  </thead>\n",
       "  <tbody>\n",
       "    <tr>\n",
       "      <th>count</th>\n",
       "      <td>17030.000000</td>\n",
       "      <td>17030.000000</td>\n",
       "      <td>17030.000000</td>\n",
       "      <td>17030.000000</td>\n",
       "      <td>17030.000000</td>\n",
       "      <td>17030.000000</td>\n",
       "      <td>17030.000000</td>\n",
       "      <td>17030.000000</td>\n",
       "      <td>17030.000000</td>\n",
       "      <td>17030.000000</td>\n",
       "      <td>...</td>\n",
       "      <td>17030.000000</td>\n",
       "      <td>17030.000000</td>\n",
       "      <td>17030.000000</td>\n",
       "      <td>17030.000000</td>\n",
       "      <td>17030.000000</td>\n",
       "      <td>17030.000000</td>\n",
       "      <td>17030.000000</td>\n",
       "      <td>17030.000000</td>\n",
       "      <td>17030.000000</td>\n",
       "      <td>17030.000000</td>\n",
       "    </tr>\n",
       "    <tr>\n",
       "      <th>mean</th>\n",
       "      <td>232.905755</td>\n",
       "      <td>237.442454</td>\n",
       "      <td>21.866001</td>\n",
       "      <td>15.953905</td>\n",
       "      <td>15.119847</td>\n",
       "      <td>0.526072</td>\n",
       "      <td>7070.637052</td>\n",
       "      <td>1400.728655</td>\n",
       "      <td>3626.236054</td>\n",
       "      <td>2659.788608</td>\n",
       "      <td>...</td>\n",
       "      <td>7112.885026</td>\n",
       "      <td>1413.130476</td>\n",
       "      <td>3638.937170</td>\n",
       "      <td>2675.237816</td>\n",
       "      <td>129.912918</td>\n",
       "      <td>21.279252</td>\n",
       "      <td>77.276603</td>\n",
       "      <td>72.984529</td>\n",
       "      <td>4.292073</td>\n",
       "      <td>-4.536700</td>\n",
       "    </tr>\n",
       "    <tr>\n",
       "      <th>std</th>\n",
       "      <td>81.659762</td>\n",
       "      <td>86.118846</td>\n",
       "      <td>11.419870</td>\n",
       "      <td>4.170220</td>\n",
       "      <td>4.105445</td>\n",
       "      <td>0.822418</td>\n",
       "      <td>1903.792745</td>\n",
       "      <td>507.931472</td>\n",
       "      <td>897.876006</td>\n",
       "      <td>925.359575</td>\n",
       "      <td>...</td>\n",
       "      <td>1908.429524</td>\n",
       "      <td>509.197146</td>\n",
       "      <td>895.868397</td>\n",
       "      <td>922.726188</td>\n",
       "      <td>171.257726</td>\n",
       "      <td>10.370809</td>\n",
       "      <td>22.307187</td>\n",
       "      <td>18.721386</td>\n",
       "      <td>21.419754</td>\n",
       "      <td>92.648591</td>\n",
       "    </tr>\n",
       "    <tr>\n",
       "      <th>min</th>\n",
       "      <td>0.000000</td>\n",
       "      <td>0.000000</td>\n",
       "      <td>0.000000</td>\n",
       "      <td>0.000000</td>\n",
       "      <td>0.000000</td>\n",
       "      <td>0.000000</td>\n",
       "      <td>376.000000</td>\n",
       "      <td>15.000000</td>\n",
       "      <td>200.000000</td>\n",
       "      <td>0.000000</td>\n",
       "      <td>...</td>\n",
       "      <td>343.000000</td>\n",
       "      <td>20.000000</td>\n",
       "      <td>300.000000</td>\n",
       "      <td>0.000000</td>\n",
       "      <td>0.000000</td>\n",
       "      <td>2.000000</td>\n",
       "      <td>-173.674127</td>\n",
       "      <td>-203.696767</td>\n",
       "      <td>-90.242000</td>\n",
       "      <td>-525.000000</td>\n",
       "    </tr>\n",
       "    <tr>\n",
       "      <th>25%</th>\n",
       "      <td>180.000000</td>\n",
       "      <td>180.000000</td>\n",
       "      <td>13.000000</td>\n",
       "      <td>13.000000</td>\n",
       "      <td>12.000000</td>\n",
       "      <td>0.000000</td>\n",
       "      <td>5666.000000</td>\n",
       "      <td>1007.000000</td>\n",
       "      <td>3000.000000</td>\n",
       "      <td>1950.000000</td>\n",
       "      <td>...</td>\n",
       "      <td>5691.000000</td>\n",
       "      <td>1024.250000</td>\n",
       "      <td>3000.000000</td>\n",
       "      <td>1950.000000</td>\n",
       "      <td>28.000000</td>\n",
       "      <td>13.333333</td>\n",
       "      <td>61.225244</td>\n",
       "      <td>59.357418</td>\n",
       "      <td>-10.298235</td>\n",
       "      <td>-63.000000</td>\n",
       "    </tr>\n",
       "    <tr>\n",
       "      <th>50%</th>\n",
       "      <td>235.000000</td>\n",
       "      <td>238.000000</td>\n",
       "      <td>21.000000</td>\n",
       "      <td>16.000000</td>\n",
       "      <td>15.000000</td>\n",
       "      <td>0.000000</td>\n",
       "      <td>7006.000000</td>\n",
       "      <td>1362.000000</td>\n",
       "      <td>3640.000000</td>\n",
       "      <td>2600.000000</td>\n",
       "      <td>...</td>\n",
       "      <td>7079.000000</td>\n",
       "      <td>1372.000000</td>\n",
       "      <td>3660.000000</td>\n",
       "      <td>2650.000000</td>\n",
       "      <td>68.000000</td>\n",
       "      <td>19.333333</td>\n",
       "      <td>77.923221</td>\n",
       "      <td>72.034326</td>\n",
       "      <td>4.129860</td>\n",
       "      <td>-3.000000</td>\n",
       "    </tr>\n",
       "    <tr>\n",
       "      <th>75%</th>\n",
       "      <td>290.000000</td>\n",
       "      <td>297.000000</td>\n",
       "      <td>29.000000</td>\n",
       "      <td>19.000000</td>\n",
       "      <td>18.000000</td>\n",
       "      <td>1.000000</td>\n",
       "      <td>8516.000000</td>\n",
       "      <td>1764.000000</td>\n",
       "      <td>4260.000000</td>\n",
       "      <td>3350.000000</td>\n",
       "      <td>...</td>\n",
       "      <td>8542.000000</td>\n",
       "      <td>1783.000000</td>\n",
       "      <td>4280.000000</td>\n",
       "      <td>3350.000000</td>\n",
       "      <td>155.000000</td>\n",
       "      <td>27.000000</td>\n",
       "      <td>93.717793</td>\n",
       "      <td>85.853502</td>\n",
       "      <td>18.680676</td>\n",
       "      <td>55.000000</td>\n",
       "    </tr>\n",
       "    <tr>\n",
       "      <th>max</th>\n",
       "      <td>557.000000</td>\n",
       "      <td>605.000000</td>\n",
       "      <td>67.000000</td>\n",
       "      <td>31.000000</td>\n",
       "      <td>30.000000</td>\n",
       "      <td>6.000000</td>\n",
       "      <td>11878.000000</td>\n",
       "      <td>2915.000000</td>\n",
       "      <td>5900.000000</td>\n",
       "      <td>5050.000000</td>\n",
       "      <td>...</td>\n",
       "      <td>11813.000000</td>\n",
       "      <td>2873.000000</td>\n",
       "      <td>6140.000000</td>\n",
       "      <td>4950.000000</td>\n",
       "      <td>1446.000000</td>\n",
       "      <td>65.666667</td>\n",
       "      <td>157.906210</td>\n",
       "      <td>148.208562</td>\n",
       "      <td>118.835204</td>\n",
       "      <td>380.000000</td>\n",
       "    </tr>\n",
       "  </tbody>\n",
       "</table>\n",
       "<p>8 rows × 29 columns</p>\n",
       "</div>"
      ],
      "text/plain": [
       "            b_score       r_score  b_experience        b_wins      b_losses  \\\n",
       "count  17030.000000  17030.000000  17030.000000  17030.000000  17030.000000   \n",
       "mean     232.905755    237.442454     21.866001     15.953905     15.119847   \n",
       "std       81.659762     86.118846     11.419870      4.170220      4.105445   \n",
       "min        0.000000      0.000000      0.000000      0.000000      0.000000   \n",
       "25%      180.000000    180.000000     13.000000     13.000000     12.000000   \n",
       "50%      235.000000    238.000000     21.000000     16.000000     15.000000   \n",
       "75%      290.000000    297.000000     29.000000     19.000000     18.000000   \n",
       "max      557.000000    605.000000     67.000000     31.000000     30.000000   \n",
       "\n",
       "             b_ties      b_points        b_auto       b_rotor    b_touchpad  \\\n",
       "count  17030.000000  17030.000000  17030.000000  17030.000000  17030.000000   \n",
       "mean       0.526072   7070.637052   1400.728655   3626.236054   2659.788608   \n",
       "std        0.822418   1903.792745    507.931472    897.876006    925.359575   \n",
       "min        0.000000    376.000000     15.000000    200.000000      0.000000   \n",
       "25%        0.000000   5666.000000   1007.000000   3000.000000   1950.000000   \n",
       "50%        0.000000   7006.000000   1362.000000   3640.000000   2600.000000   \n",
       "75%        1.000000   8516.000000   1764.000000   4260.000000   3350.000000   \n",
       "max        6.000000  11878.000000   2915.000000   5900.000000   5050.000000   \n",
       "\n",
       "           ...           r_points        r_auto       r_rotor    r_touchpad  \\\n",
       "count      ...       17030.000000  17030.000000  17030.000000  17030.000000   \n",
       "mean       ...        7112.885026   1413.130476   3638.937170   2675.237816   \n",
       "std        ...        1908.429524    509.197146    895.868397    922.726188   \n",
       "min        ...         343.000000     20.000000    300.000000      0.000000   \n",
       "25%        ...        5691.000000   1024.250000   3000.000000   1950.000000   \n",
       "50%        ...        7079.000000   1372.000000   3660.000000   2650.000000   \n",
       "75%        ...        8542.000000   1783.000000   4280.000000   3350.000000   \n",
       "max        ...       11813.000000   2873.000000   6140.000000   4950.000000   \n",
       "\n",
       "         r_pressure        r_rank         r_OPR         r_DPR        r_CCWM  \\\n",
       "count  17030.000000  17030.000000  17030.000000  17030.000000  17030.000000   \n",
       "mean     129.912918     21.279252     77.276603     72.984529      4.292073   \n",
       "std      171.257726     10.370809     22.307187     18.721386     21.419754   \n",
       "min        0.000000      2.000000   -173.674127   -203.696767    -90.242000   \n",
       "25%       28.000000     13.333333     61.225244     59.357418    -10.298235   \n",
       "50%       68.000000     19.333333     77.923221     72.034326      4.129860   \n",
       "75%      155.000000     27.000000     93.717793     85.853502     18.680676   \n",
       "max     1446.000000     65.666667    157.906210    148.208562    118.835204   \n",
       "\n",
       "         win_margin  \n",
       "count  17030.000000  \n",
       "mean      -4.536700  \n",
       "std       92.648591  \n",
       "min     -525.000000  \n",
       "25%      -63.000000  \n",
       "50%       -3.000000  \n",
       "75%       55.000000  \n",
       "max      380.000000  \n",
       "\n",
       "[8 rows x 29 columns]"
      ]
     },
     "execution_count": 200,
     "metadata": {},
     "output_type": "execute_result"
    }
   ],
   "source": [
    "# https://pandas.pydata.org/pandas-docs/stable/generated/pandas.DataFrame.dropna.html\n",
    "# https://stackoverflow.com/questions/44133219/removing-negative-values-in-pandas-column-keeping-nan?rq=1\n",
    "combined_df.dropna(inplace = True)\n",
    "combined_df = combined_df[(combined_df[\"b_score\"] >= 0) & (combined_df[\"r_score\"] >= 0)]\n",
    "combined_df.describe()"
   ]
  },
  {
   "cell_type": "code",
   "execution_count": 201,
   "metadata": {
    "collapsed": true
   },
   "outputs": [],
   "source": [
    "# Save dataframe to file\n",
    "name = path + 'TotalData.csv'\n",
    "combined_df.to_csv(name)"
   ]
  },
  {
   "cell_type": "markdown",
   "metadata": {},
   "source": [
    "### Loading Data"
   ]
  },
  {
   "cell_type": "markdown",
   "metadata": {},
   "source": [
    "We have all the data we need. Next we need to separate it into testing and training. The API only allows us to get data on the teams for the qualification matches as a whole. You can't look at the data for something like autonomous for only the first few games. As a result we'll have to use only elimination observations for training and testing (because you can't use info from a game that hasn't happened yet). We will have to filter out the elimination data by finding when \"level\" is equal to ef (eighth final), qf (quarter final), sf (semi final), or f(final)."
   ]
  },
  {
   "cell_type": "code",
   "execution_count": 42,
   "metadata": {},
   "outputs": [
    {
     "data": {
      "text/plain": [
       "(3099, 30)"
      ]
     },
     "execution_count": 42,
     "metadata": {},
     "output_type": "execute_result"
    }
   ],
   "source": [
    "name = path + 'TotalData.csv'\n",
    "data = pd.DataFrame.from_csv(name)\n",
    "data = data.loc[(data[\"level\"] == \"ef\") | (data[\"level\"] == \"qf\") | (data[\"level\"] == \"sf\") | (data[\"level\"] == \"f\") ]\n",
    "data.shape"
   ]
  },
  {
   "cell_type": "markdown",
   "metadata": {},
   "source": [
    "Let's divide our data into features and targets."
   ]
  },
  {
   "cell_type": "code",
   "execution_count": 43,
   "metadata": {},
   "outputs": [
    {
     "data": {
      "text/html": [
       "<div>\n",
       "<style>\n",
       "    .dataframe thead tr:only-child th {\n",
       "        text-align: right;\n",
       "    }\n",
       "\n",
       "    .dataframe thead th {\n",
       "        text-align: left;\n",
       "    }\n",
       "\n",
       "    .dataframe tbody tr th {\n",
       "        vertical-align: top;\n",
       "    }\n",
       "</style>\n",
       "<table border=\"1\" class=\"dataframe\">\n",
       "  <thead>\n",
       "    <tr style=\"text-align: right;\">\n",
       "      <th></th>\n",
       "      <th>b_experience</th>\n",
       "      <th>b_wins</th>\n",
       "      <th>b_losses</th>\n",
       "      <th>b_ties</th>\n",
       "      <th>b_points</th>\n",
       "      <th>b_auto</th>\n",
       "      <th>b_rotor</th>\n",
       "      <th>b_touchpad</th>\n",
       "      <th>b_pressure</th>\n",
       "      <th>b_rank</th>\n",
       "      <th>...</th>\n",
       "      <th>r_ties</th>\n",
       "      <th>r_points</th>\n",
       "      <th>r_auto</th>\n",
       "      <th>r_rotor</th>\n",
       "      <th>r_touchpad</th>\n",
       "      <th>r_pressure</th>\n",
       "      <th>r_rank</th>\n",
       "      <th>r_OPR</th>\n",
       "      <th>r_DPR</th>\n",
       "      <th>r_CCWM</th>\n",
       "    </tr>\n",
       "  </thead>\n",
       "  <tbody>\n",
       "    <tr>\n",
       "      <th>0</th>\n",
       "      <td>26.0</td>\n",
       "      <td>21.0</td>\n",
       "      <td>6.0</td>\n",
       "      <td>0.0</td>\n",
       "      <td>6219.0</td>\n",
       "      <td>1369.0</td>\n",
       "      <td>3220.0</td>\n",
       "      <td>2100.0</td>\n",
       "      <td>19.0</td>\n",
       "      <td>9.000000</td>\n",
       "      <td>...</td>\n",
       "      <td>0.0</td>\n",
       "      <td>6169.0</td>\n",
       "      <td>1146.0</td>\n",
       "      <td>3100.0</td>\n",
       "      <td>2050.0</td>\n",
       "      <td>374.0</td>\n",
       "      <td>13.666667</td>\n",
       "      <td>105.463018</td>\n",
       "      <td>56.554657</td>\n",
       "      <td>48.908361</td>\n",
       "    </tr>\n",
       "    <tr>\n",
       "      <th>1</th>\n",
       "      <td>26.0</td>\n",
       "      <td>21.0</td>\n",
       "      <td>6.0</td>\n",
       "      <td>0.0</td>\n",
       "      <td>6219.0</td>\n",
       "      <td>1369.0</td>\n",
       "      <td>3220.0</td>\n",
       "      <td>2100.0</td>\n",
       "      <td>19.0</td>\n",
       "      <td>9.000000</td>\n",
       "      <td>...</td>\n",
       "      <td>0.0</td>\n",
       "      <td>6169.0</td>\n",
       "      <td>1146.0</td>\n",
       "      <td>3100.0</td>\n",
       "      <td>2050.0</td>\n",
       "      <td>374.0</td>\n",
       "      <td>13.666667</td>\n",
       "      <td>105.463018</td>\n",
       "      <td>56.554657</td>\n",
       "      <td>48.908361</td>\n",
       "    </tr>\n",
       "    <tr>\n",
       "      <th>2</th>\n",
       "      <td>17.0</td>\n",
       "      <td>16.0</td>\n",
       "      <td>11.0</td>\n",
       "      <td>0.0</td>\n",
       "      <td>5489.0</td>\n",
       "      <td>1316.0</td>\n",
       "      <td>3080.0</td>\n",
       "      <td>1800.0</td>\n",
       "      <td>54.0</td>\n",
       "      <td>17.666667</td>\n",
       "      <td>...</td>\n",
       "      <td>0.0</td>\n",
       "      <td>6169.0</td>\n",
       "      <td>1146.0</td>\n",
       "      <td>3100.0</td>\n",
       "      <td>2050.0</td>\n",
       "      <td>374.0</td>\n",
       "      <td>13.666667</td>\n",
       "      <td>105.463018</td>\n",
       "      <td>56.554657</td>\n",
       "      <td>48.908361</td>\n",
       "    </tr>\n",
       "    <tr>\n",
       "      <th>3</th>\n",
       "      <td>17.0</td>\n",
       "      <td>16.0</td>\n",
       "      <td>11.0</td>\n",
       "      <td>0.0</td>\n",
       "      <td>5489.0</td>\n",
       "      <td>1316.0</td>\n",
       "      <td>3080.0</td>\n",
       "      <td>1800.0</td>\n",
       "      <td>54.0</td>\n",
       "      <td>17.666667</td>\n",
       "      <td>...</td>\n",
       "      <td>0.0</td>\n",
       "      <td>6169.0</td>\n",
       "      <td>1146.0</td>\n",
       "      <td>3100.0</td>\n",
       "      <td>2050.0</td>\n",
       "      <td>374.0</td>\n",
       "      <td>13.666667</td>\n",
       "      <td>105.463018</td>\n",
       "      <td>56.554657</td>\n",
       "      <td>48.908361</td>\n",
       "    </tr>\n",
       "    <tr>\n",
       "      <th>4</th>\n",
       "      <td>4.0</td>\n",
       "      <td>16.0</td>\n",
       "      <td>11.0</td>\n",
       "      <td>0.0</td>\n",
       "      <td>5711.0</td>\n",
       "      <td>1115.0</td>\n",
       "      <td>2980.0</td>\n",
       "      <td>2050.0</td>\n",
       "      <td>16.0</td>\n",
       "      <td>17.000000</td>\n",
       "      <td>...</td>\n",
       "      <td>0.0</td>\n",
       "      <td>5733.0</td>\n",
       "      <td>1205.0</td>\n",
       "      <td>2740.0</td>\n",
       "      <td>2200.0</td>\n",
       "      <td>128.0</td>\n",
       "      <td>11.333333</td>\n",
       "      <td>82.087922</td>\n",
       "      <td>54.416807</td>\n",
       "      <td>27.671114</td>\n",
       "    </tr>\n",
       "  </tbody>\n",
       "</table>\n",
       "<p>5 rows × 26 columns</p>\n",
       "</div>"
      ],
      "text/plain": [
       "   b_experience  b_wins  b_losses  b_ties  b_points  b_auto  b_rotor  \\\n",
       "0          26.0    21.0       6.0     0.0    6219.0  1369.0   3220.0   \n",
       "1          26.0    21.0       6.0     0.0    6219.0  1369.0   3220.0   \n",
       "2          17.0    16.0      11.0     0.0    5489.0  1316.0   3080.0   \n",
       "3          17.0    16.0      11.0     0.0    5489.0  1316.0   3080.0   \n",
       "4           4.0    16.0      11.0     0.0    5711.0  1115.0   2980.0   \n",
       "\n",
       "   b_touchpad  b_pressure     b_rank    ...      r_ties  r_points  r_auto  \\\n",
       "0      2100.0        19.0   9.000000    ...         0.0    6169.0  1146.0   \n",
       "1      2100.0        19.0   9.000000    ...         0.0    6169.0  1146.0   \n",
       "2      1800.0        54.0  17.666667    ...         0.0    6169.0  1146.0   \n",
       "3      1800.0        54.0  17.666667    ...         0.0    6169.0  1146.0   \n",
       "4      2050.0        16.0  17.000000    ...         0.0    5733.0  1205.0   \n",
       "\n",
       "   r_rotor  r_touchpad  r_pressure     r_rank       r_OPR      r_DPR  \\\n",
       "0   3100.0      2050.0       374.0  13.666667  105.463018  56.554657   \n",
       "1   3100.0      2050.0       374.0  13.666667  105.463018  56.554657   \n",
       "2   3100.0      2050.0       374.0  13.666667  105.463018  56.554657   \n",
       "3   3100.0      2050.0       374.0  13.666667  105.463018  56.554657   \n",
       "4   2740.0      2200.0       128.0  11.333333   82.087922  54.416807   \n",
       "\n",
       "      r_CCWM  \n",
       "0  48.908361  \n",
       "1  48.908361  \n",
       "2  48.908361  \n",
       "3  48.908361  \n",
       "4  27.671114  \n",
       "\n",
       "[5 rows x 26 columns]"
      ]
     },
     "execution_count": 43,
     "metadata": {},
     "output_type": "execute_result"
    }
   ],
   "source": [
    "X = data.drop([\"b_score\", \"r_score\", \"level\", \"win_margin\"], axis = 1)\n",
    "X.head()"
   ]
  },
  {
   "cell_type": "code",
   "execution_count": 44,
   "metadata": {},
   "outputs": [
    {
     "data": {
      "text/plain": [
       "0    -87\n",
       "1   -160\n",
       "2    -76\n",
       "3   -118\n",
       "4     50\n",
       "Name: win_margin, dtype: int64"
      ]
     },
     "execution_count": 44,
     "metadata": {},
     "output_type": "execute_result"
    }
   ],
   "source": [
    "y = data[\"win_margin\"]\n",
    "y.head()"
   ]
  },
  {
   "cell_type": "markdown",
   "metadata": {},
   "source": [
    "Now let's divide our data into training and testing. For SVM it is important to scale your data so let's do that too."
   ]
  },
  {
   "cell_type": "code",
   "execution_count": 45,
   "metadata": {
    "collapsed": true
   },
   "outputs": [],
   "source": [
    "# http://scikit-learn.org/stable/modules/preprocessing.html#preprocessing\n",
    "# https://stackoverflow.com/questions/14688391/how-to-apply-standardization-to-svms-in-scikit-learn\n",
    "from sklearn.model_selection import train_test_split\n",
    "X_train,X_test,Y_train,Y_test = train_test_split(X,y,test_size = 0.3,random_state = 5)\n",
    "\n"
   ]
  },
  {
   "cell_type": "markdown",
   "metadata": {},
   "source": [
    "### SVR Regression"
   ]
  },
  {
   "cell_type": "code",
   "execution_count": null,
   "metadata": {
    "collapsed": true
   },
   "outputs": [],
   "source": [
    "import optunity\n",
    "import optunity.metrics\n",
    "from sklearn.svm import SVR\n",
    "from sklearn.pipeline import Pipeline\n",
    "from sklearn import preprocessing"
   ]
  },
  {
   "cell_type": "markdown",
   "metadata": {},
   "source": [
    "Let's first determine the optimal parameters for our data using the optunity library."
   ]
  },
  {
   "cell_type": "code",
   "execution_count": 46,
   "metadata": {
    "collapsed": true
   },
   "outputs": [],
   "source": [
    "x_train = X_train.values\n",
    "x_test = X_test.values\n",
    "y_train = Y_train.values\n",
    "y_test = Y_test.values"
   ]
  },
  {
   "cell_type": "code",
   "execution_count": null,
   "metadata": {
    "collapsed": true
   },
   "outputs": [],
   "source": [
    "# # http://optunity.readthedocs.io/en/latest/notebooks/notebooks/sklearn-svr.html\n",
    "# https://stackoverflow.com/questions/14688391/how-to-apply-standardization-to-svms-in-scikit-learn\n",
    "# http://scikit-learn.org/stable/modules/generated/sklearn.svm.SVR.html\n",
    "# https://machinelearningmastery.com/automate-machine-learning-workflows-pipelines-python-scikit-learn/\n",
    "outer_cv = optunity.cross_validated(x=X, y=y, num_folds=3)\n",
    "\n",
    "def compute_mse_rbf_tuned(x_train, y_train, x_test, y_test):\n",
    "    \"\"\"Computes MSE of an SVR with RBF kernel and optimized hyperparameters.\"\"\"\n",
    "\n",
    "    # define objective function for tuning\n",
    "    @optunity.cross_validated(x=x_train, y=y_train, num_iter=2, num_folds=5)\n",
    "    def tune_cv(x_train, y_train, x_test, y_test, C, gamma, epsilon):\n",
    "        # For SVM it is important to normalize our data so we use the Pipeline with StandardScaler to do this\n",
    "        pipe = Pipeline([('scaler', preprocessing.StandardScaler()), ('svr', SVR(C = C, gamma = gamma, epsilon = epsilon))])\n",
    "        model = pipe.fit(x_train, y_train)\n",
    "        predictions = model.predict(x_test)\n",
    "        return optunity.metrics.mse(y_test, predictions)\n",
    "\n",
    "    # optimize parameters\n",
    "    optimal_pars, _, _ = optunity.minimize(tune_cv, 150, C=[1, 100], gamma=[0, 50], epsilon = [0,2])\n",
    "    print(\"optimal hyperparameters: \" + str(optimal_pars))\n",
    "    \n",
    "    model = Pipeline([('scaler', preprocessing.StandardScaler()), ('svr', SVR(**optimal_pars))])\n",
    "    tuned_model = model.fit(x_train, y_train)\n",
    "    predictions = tuned_model.predict(x_test)\n",
    "    return optunity.metrics.mse(y_test, predictions)\n",
    "\n",
    "# wrap with outer cross-validation\n",
    "compute_mse_rbf_tuned = outer_cv(compute_mse_rbf_tuned(x_train, y_train, x_test, y_test))"
   ]
  },
  {
   "cell_type": "markdown",
   "metadata": {},
   "source": [
    "It looks like our parameters should be C = 36.535, epsilon = 1.758, and gamma = 22.859. Now let's build our model with those parameters and predict."
   ]
  },
  {
   "cell_type": "code",
   "execution_count": 52,
   "metadata": {
    "collapsed": true
   },
   "outputs": [],
   "source": [
    "# https://www.civisanalytics.com/blog/workflows-in-python-using-pipeline-and-gridsearchcv-for-more-compact-and-comprehensive-code/\n",
    "# Fit and predict\n",
    "from sklearn.svm import SVR\n",
    "from sklearn.pipeline import Pipeline\n",
    "from sklearn import preprocessing\n",
    "# Normalize data using Pipeline\n",
    "pipe = Pipeline([('scaler', preprocessing.StandardScaler()), ('svr', SVR(C = 36.535, gamma = 22.859, epsilon = 1.758))])\n",
    "pipe.fit(X_train, Y_train)\n",
    "y_pred = pipe.predict(X_test)"
   ]
  },
  {
   "cell_type": "code",
   "execution_count": 53,
   "metadata": {
    "collapsed": true
   },
   "outputs": [],
   "source": [
    "# https://stackoverflow.com/questions/19103977/scikit-mixtypes-of-y-error\n",
    "# Classify y_test and y_pred as win (2), loss (0), and tie (1)\n",
    "def classify(y_test, y_pred):\n",
    "    \"\"\" \n",
    "    @param y_test: series of the actual win margin of a game\n",
    "    @param y_pred: numpy array of the predicted win margins of a game\n",
    "    @return y_test_classified: array of actual wins (2), ties (1), losses (0)\n",
    "    @return y_pred_classified: array of predicted wins (2), ties (1), losses (0)\n",
    "    \"\"\"\n",
    "    y_test_classified = np.zeros((len(y_pred),), dtype = int)\n",
    "    y_pred_classified = np.zeros((len(y_pred),), dtype = int)\n",
    "    for i in range(0, len(y_pred)):\n",
    "        if y_test.values[i] > 0:\n",
    "            y_test_classified[i] = 2\n",
    "        elif y_test.values[i] < 0:\n",
    "            y_test_classified[i] = 0\n",
    "        else:\n",
    "            y_test_classified[i] = 1\n",
    "\n",
    "    for i in range(0, len(y_pred)):\n",
    "        if y_pred[i] > 0:\n",
    "            y_pred_classified[i] = 2\n",
    "        elif y_pred[i] < 0:\n",
    "            y_pred_classified[i] = 0\n",
    "        else:\n",
    "            y_pred_classified[i] = 1\n",
    "    return y_test_classified, y_pred_classified"
   ]
  },
  {
   "cell_type": "code",
   "execution_count": 54,
   "metadata": {
    "collapsed": true
   },
   "outputs": [],
   "source": [
    "# Classify wins, losses, and ties so we can do classification report\n",
    "y_test_classified, y_pred_classified = classify(Y_test, y_pred)"
   ]
  },
  {
   "cell_type": "code",
   "execution_count": 55,
   "metadata": {},
   "outputs": [
    {
     "name": "stdout",
     "output_type": "stream",
     "text": [
      "             precision    recall  f1-score   support\n",
      "\n",
      "          0       0.68      0.85      0.76       581\n",
      "          1       0.00      0.00      0.00        21\n",
      "          2       0.54      0.33      0.41       328\n",
      "\n",
      "avg / total       0.61      0.65      0.62       930\n",
      "\n"
     ]
    },
    {
     "name": "stderr",
     "output_type": "stream",
     "text": [
      "C:\\Users\\Ithier\\Anaconda3\\lib\\site-packages\\sklearn\\metrics\\classification.py:1113: UndefinedMetricWarning: Precision and F-score are ill-defined and being set to 0.0 in labels with no predicted samples.\n",
      "  'precision', 'predicted', average, warn_for)\n"
     ]
    }
   ],
   "source": [
    "from sklearn.metrics import classification_report, confusion_matrix\n",
    "report = classification_report(y_test_classified, y_pred_classified)\n",
    "print(report)"
   ]
  },
  {
   "cell_type": "code",
   "execution_count": 56,
   "metadata": {},
   "outputs": [
    {
     "data": {
      "text/plain": [
       "[<matplotlib.text.Text at 0x1e93f948fd0>,\n",
       " <matplotlib.text.Text at 0x1e93f940978>,\n",
       " <matplotlib.text.Text at 0x1e93f9a52e8>]"
      ]
     },
     "execution_count": 56,
     "metadata": {},
     "output_type": "execute_result"
    },
    {
     "data": {
      "image/png": "[encoded data removed]",
      "text/plain": [
       "<matplotlib.figure.Figure at 0x1e93e93e8d0>"
      ]
     },
     "metadata": {},
     "output_type": "display_data"
    }
   ],
   "source": [
    "import seaborn as sns\n",
    "%matplotlib inline\n",
    "cm = confusion_matrix(y_test_classified, y_pred_classified, labels = [0, 1, 2])\n",
    "\n",
    "ax = sns.heatmap(cm, annot = True, fmt = \"d\")\n",
    "ax.set_xlabel(\"Predicted labels\")\n",
    "ax.set_ylabel(\"True labels\")\n",
    "ax.set_title(\"SVM Confusion Matrix\")\n",
    "ax.xaxis.set_ticklabels([\"loss\", \"tie\", \"win\"])\n",
    "ax.yaxis.set_ticklabels([\"win\", \"tie\", \"loss\"])"
   ]
  },
  {
   "cell_type": "markdown",
   "metadata": {
    "collapsed": true
   },
   "source": [
    "### Decision Tree Regression"
   ]
  },
  {
   "cell_type": "markdown",
   "metadata": {},
   "source": [
    "Let's determine what we should use as our parameters for the Decision Tree Regression model."
   ]
  },
  {
   "cell_type": "code",
   "execution_count": 57,
   "metadata": {},
   "outputs": [
    {
     "name": "stdout",
     "output_type": "stream",
     "text": [
      "Tuned Decision Tree Parameters: {'min_samples_split': 5, 'min_samples_leaf': 8, 'max_features': 17, 'max_depth': 4}\n"
     ]
    }
   ],
   "source": [
    "from sklearn.tree import DecisionTreeRegressor\n",
    "from sklearn.model_selection import RandomizedSearchCV\n",
    "# https://campus.datacamp.com/courses/supervised-learning-with-scikit-learn/fine-tuning-your-model?ex=11#skiponboarding\n",
    "param_dist = {\"max_depth\": list(range(1,15)),\n",
    "              \"max_features\": list(range(1,20)),\n",
    "              \"min_samples_leaf\": list(range(1,10)),\n",
    "              \"min_samples_split\": list(range(2,10))\n",
    "              }\n",
    "\n",
    "model = DecisionTreeRegressor()\n",
    "tree_cv = RandomizedSearchCV(model, param_dist)\n",
    "\n",
    "tree_cv.fit(x_train, y_train)\n",
    "\n",
    "print(\"Tuned Decision Tree Parameters: {}\".format(tree_cv.best_params_))"
   ]
  },
  {
   "cell_type": "code",
   "execution_count": 58,
   "metadata": {
    "collapsed": true
   },
   "outputs": [],
   "source": [
    "# http://scikit-learn.org/stable/auto_examples/tree/plot_tree_regression.html\n",
    "# http://scikit-learn.org/stable/modules/generated/sklearn.tree.DecisionTreeRegressor.html\n",
    "\n",
    "from sklearn.tree import DecisionTreeRegressor\n",
    "dt = DecisionTreeRegressor(max_depth = 4, min_samples_split = 5, min_samples_leaf = 8, max_features = 17)\n",
    "dt.fit(X_train, Y_train)\n",
    "y_pred = dt.predict(X_test)"
   ]
  },
  {
   "cell_type": "code",
   "execution_count": 59,
   "metadata": {
    "collapsed": true
   },
   "outputs": [],
   "source": [
    "y_test_classified, y_pred_classified = classify(Y_test, y_pred)"
   ]
  },
  {
   "cell_type": "code",
   "execution_count": 60,
   "metadata": {},
   "outputs": [
    {
     "name": "stdout",
     "output_type": "stream",
     "text": [
      "             precision    recall  f1-score   support\n",
      "\n",
      "          0       0.66      0.81      0.73       581\n",
      "          1       0.00      0.00      0.00        21\n",
      "          2       0.47      0.31      0.38       328\n",
      "\n",
      "avg / total       0.58      0.62      0.59       930\n",
      "\n"
     ]
    },
    {
     "name": "stderr",
     "output_type": "stream",
     "text": [
      "C:\\Users\\Ithier\\Anaconda3\\lib\\site-packages\\sklearn\\metrics\\classification.py:1113: UndefinedMetricWarning: Precision and F-score are ill-defined and being set to 0.0 in labels with no predicted samples.\n",
      "  'precision', 'predicted', average, warn_for)\n"
     ]
    }
   ],
   "source": [
    "from sklearn.metrics import classification_report, confusion_matrix\n",
    "report = classification_report(y_test_classified, y_pred_classified)\n",
    "print(report)"
   ]
  },
  {
   "cell_type": "code",
   "execution_count": 61,
   "metadata": {},
   "outputs": [
    {
     "data": {
      "text/plain": [
       "[<matplotlib.text.Text at 0x20df60d86a0>,\n",
       " <matplotlib.text.Text at 0x20df5de0a58>,\n",
       " <matplotlib.text.Text at 0x20df5f94f28>]"
      ]
     },
     "execution_count": 61,
     "metadata": {},
     "output_type": "execute_result"
    },
    {
     "data": {
      "image/png": "[encoded data removed]",
      "text/plain": [
       "<matplotlib.figure.Figure at 0x20df67d4240>"
      ]
     },
     "metadata": {},
     "output_type": "display_data"
    }
   ],
   "source": [
    "import seaborn as sns\n",
    "%matplotlib inline\n",
    "cm = confusion_matrix(y_test_classified, y_pred_classified, labels = [0, 1, 2])\n",
    "\n",
    "ax = sns.heatmap(cm, annot = True, fmt = \"d\")\n",
    "ax.set_xlabel(\"Predicted labels\")\n",
    "ax.set_ylabel(\"True labels\")\n",
    "ax.set_title(\"Decision Tree Confusion Matrix\")\n",
    "ax.xaxis.set_ticklabels([\"loss\", \"tie\", \"win\"])\n",
    "ax.yaxis.set_ticklabels([\"win\", \"tie\", \"loss\"])"
   ]
  },
  {
   "cell_type": "markdown",
   "metadata": {},
   "source": [
    "### Random Forest Regression"
   ]
  },
  {
   "cell_type": "markdown",
   "metadata": {},
   "source": [
    "Let's use RandomizedSearchCV again to find good parameters for our model."
   ]
  },
  {
   "cell_type": "code",
   "execution_count": 47,
   "metadata": {},
   "outputs": [
    {
     "name": "stdout",
     "output_type": "stream",
     "text": [
      "Tuned Random Forest Parameters: {'n_estimators': 23, 'min_samples_split': 7, 'min_samples_leaf': 6, 'max_features': 'sqrt', 'max_depth': 4, 'bootstrap': False}\n"
     ]
    }
   ],
   "source": [
    "from sklearn.ensemble import RandomForestRegressor\n",
    "from sklearn.model_selection import RandomizedSearchCV\n",
    "# https://campus.datacamp.com/courses/supervised-learning-with-scikit-learn/fine-tuning-your-model?ex=11#skiponboarding\n",
    "# https://towardsdatascience.com/hyperparameter-tuning-the-random-forest-in-python-using-scikit-learn-28d2aa77dd74\n",
    "# http://scikit-learn.org/stable/modules/generated/sklearn.ensemble.RandomForestRegressor.html\n",
    "param_dist = {\"n_estimators\": list(range(5,25)),\n",
    "              \"max_depth\": list(range(1,15)),\n",
    "              \"max_features\": [\"auto\", \"sqrt\", \"log2\", None],\n",
    "              \"min_samples_leaf\": list(range(1,10)),\n",
    "              \"min_samples_split\": list(range(2,10)),\n",
    "              \"bootstrap\": [True, False]\n",
    "              }\n",
    "\n",
    "model = RandomForestRegressor()\n",
    "forest_cv = RandomizedSearchCV(model, param_dist)\n",
    "\n",
    "forest_cv.fit(x_train, y_train)\n",
    "\n",
    "print(\"Tuned Random Forest Parameters: {}\".format(forest_cv.best_params_))"
   ]
  },
  {
   "cell_type": "code",
   "execution_count": 48,
   "metadata": {
    "collapsed": true
   },
   "outputs": [],
   "source": [
    "forest = RandomForestRegressor(n_estimators = 23, min_samples_split = 7, min_samples_leaf = 6, max_features = \"sqrt\", max_depth = 4, bootstrap = False)\n",
    "forest.fit(x_train, y_train)\n",
    "y_pred = forest.predict(x_test)"
   ]
  },
  {
   "cell_type": "code",
   "execution_count": 49,
   "metadata": {
    "collapsed": true
   },
   "outputs": [],
   "source": [
    "y_test_classified, y_pred_classified = classify(Y_test, y_pred)"
   ]
  },
  {
   "cell_type": "code",
   "execution_count": 50,
   "metadata": {},
   "outputs": [
    {
     "name": "stdout",
     "output_type": "stream",
     "text": [
      "             precision    recall  f1-score   support\n",
      "\n",
      "          0       0.63      0.98      0.77       581\n",
      "          1       0.00      0.00      0.00        21\n",
      "          2       0.66      0.06      0.11       328\n",
      "\n",
      "avg / total       0.63      0.64      0.52       930\n",
      "\n"
     ]
    },
    {
     "name": "stderr",
     "output_type": "stream",
     "text": [
      "C:\\Users\\Ithier\\Anaconda3\\lib\\site-packages\\sklearn\\metrics\\classification.py:1113: UndefinedMetricWarning: Precision and F-score are ill-defined and being set to 0.0 in labels with no predicted samples.\n",
      "  'precision', 'predicted', average, warn_for)\n"
     ]
    }
   ],
   "source": [
    "from sklearn.metrics import classification_report, confusion_matrix\n",
    "report = classification_report(y_test_classified, y_pred_classified)\n",
    "print(report)"
   ]
  },
  {
   "cell_type": "code",
   "execution_count": 51,
   "metadata": {},
   "outputs": [
    {
     "data": {
      "text/plain": [
       "[<matplotlib.text.Text at 0x1e93d5d53c8>,\n",
       " <matplotlib.text.Text at 0x1e93e868e80>,\n",
       " <matplotlib.text.Text at 0x1e93e8b7a20>]"
      ]
     },
     "execution_count": 51,
     "metadata": {},
     "output_type": "execute_result"
    },
    {
     "data": {
      "image/png": "[encoded data removed]",
      "text/plain": [
       "<matplotlib.figure.Figure at 0x1e93e782358>"
      ]
     },
     "metadata": {},
     "output_type": "display_data"
    }
   ],
   "source": [
    "import seaborn as sns\n",
    "%matplotlib inline\n",
    "cm = confusion_matrix(y_test_classified, y_pred_classified, labels = [0, 1, 2])\n",
    "\n",
    "ax = sns.heatmap(cm, annot = True, fmt = \"d\")\n",
    "ax.set_xlabel(\"Predicted labels\")\n",
    "ax.set_ylabel(\"True labels\")\n",
    "ax.set_title(\"Random Forest Confusion Matrix\")\n",
    "ax.xaxis.set_ticklabels([\"loss\", \"tie\", \"win\"])\n",
    "ax.yaxis.set_ticklabels([\"win\", \"tie\", \"loss\"])"
   ]
  },
  {
   "cell_type": "markdown",
   "metadata": {},
   "source": [
    "### Conclusion"
   ]
  },
  {
   "cell_type": "markdown",
   "metadata": {},
   "source": [
    "The SVM regression performed the best although its results aren't too different from the Random Forest Regression. It had the highest recall, f1 score, and accuracy of the three tried. The Random Forest Regression had a slightly higher precision, recall, and accuracy than the Decision Tree Regression. In all regressions, the model over predicted losses and never predicted a tie."
   ]
  },
  {
   "cell_type": "code",
   "execution_count": null,
   "metadata": {
    "collapsed": true
   },
   "outputs": [],
   "source": []
  }
 ],
 "metadata": {
  "kernelspec": {
   "display_name": "Python 3",
   "language": "python",
   "name": "python3"
  },
  "language_info": {
   "codemirror_mode": {
    "name": "ipython",
    "version": 3
   },
   "file_extension": ".py",
   "mimetype": "text/x-python",
   "name": "python",
   "nbconvert_exporter": "python",
   "pygments_lexer": "ipython3",
   "version": "3.6.1"
  }
 },
 "nbformat": 4,
 "nbformat_minor": 2
}
