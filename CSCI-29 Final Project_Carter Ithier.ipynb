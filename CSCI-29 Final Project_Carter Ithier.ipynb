{
 "cells": [
  {
   "cell_type": "code",
   "execution_count": 110,
   "metadata": {
    "collapsed": true
   },
   "outputs": [],
   "source": [
    "from functools import reduce\n",
    "import requests\n",
    "import numpy as np\n",
    "import pandas as pd\n",
    "import scipy.sparse\n",
    "import scipy.sparse.linalg\n",
    "# https://github.com/frc1418/tbapy/blob/master/tbapy/main.py\n",
    "base_url= \"https://www.thebluealliance.com/api/v3/\"\n",
    "auth_key = 'fge7icVbwIkRUkYKFb7Bj045jGELlWspOnCTxJnhkC9jqiLRjE0VBR4ACcez4vxo'\n",
    "\n",
    "# https://www.dataquest.io/blog/python-api-tutorial/\n",
    "# https://www.digitalocean.com/community/tutorials/how-to-use-web-apis-in-python-3\n",
    "# https://www.dataquest.io/blog/python-api-tutorial/\n",
    "# https://www.dataquest.io/blog/python-api-tutorial/\n",
    "headers = {\"X-TBA-Auth-Key\": auth_key}"
   ]
  },
  {
   "cell_type": "code",
   "execution_count": 111,
   "metadata": {
    "collapsed": true
   },
   "outputs": [],
   "source": [
    "# Get a list of the event keys we are going to go through\n",
    "url = base_url + 'events/2017'\n",
    "response = requests.get(url, headers = headers)\n",
    "data = response.json()\n",
    "event_keys = []\n",
    "for i in range(0,len(data)):\n",
    "    event_keys.append(data[i][\"key\"])"
   ]
  },
  {
   "cell_type": "markdown",
   "metadata": {},
   "source": [
    "Let's define some helper functions before we get started."
   ]
  },
  {
   "cell_type": "code",
   "execution_count": 112,
   "metadata": {
    "collapsed": true
   },
   "outputs": [],
   "source": [
    "# Get the number of years the team has existed\n",
    "def get_experience(event_key, headers):\n",
    "    \"\"\" \n",
    "        @param event_key: the event we are interested in\n",
    "        @param headers: the authorizations key\n",
    "        @return df_rookie_year: a dataframe with the teams and the number of years each team has existed\n",
    "    \"\"\"\n",
    "    url = base_url + 'event/' + event_key + '/teams'\n",
    "    response = requests.get(url, headers = headers)\n",
    "    data = response.json()\n",
    "\n",
    "    # create a dataframe of the team and rookie year\n",
    "    # https://pandas.pydata.org/pandas-docs/stable/generated/pandas.DataFrame.append.html\n",
    "    df_rookieyear = pd.DataFrame(columns = [\"team\", \"experience\"])\n",
    "    for i in range(0, len(data)):\n",
    "        name = data[i][\"key\"]\n",
    "        year = 2017 - data[i][\"rookie_year\"]\n",
    "        df_rookieyear = df_rookieyear.append({\"team\": name, \"experience\": year}, ignore_index = True)\n",
    "    return df_rookieyear"
   ]
  },
  {
   "cell_type": "code",
   "execution_count": 113,
   "metadata": {},
   "outputs": [],
   "source": [
    "# Get stats on the team like number of wins and losses\n",
    "def get_stats(event_key, headers):\n",
    "    \"\"\" \n",
    "        @param event_key: the event we are interested in\n",
    "        @param headers: the authorizations key\n",
    "        @return df_stats: a dataframe with the teams and stats for that team like number of wins, losses, ties, etc\n",
    "    \"\"\"\n",
    "    url = base_url + 'event/' + event_key + '/rankings'\n",
    "    response = requests.get(url, headers = headers)\n",
    "    data = response.json()\n",
    "    rankings = data[\"rankings\"]\n",
    "    df_stats = pd.DataFrame(columns = [\"team\", \"rank\", \"wins\", \"losses\", \"ties\", \"points\", \"auto\", \"rotor\", \"touchpad\", \"pressure\"])\n",
    "    for i in range(0, len(rankings)):\n",
    "        team = rankings[i][\"team_key\"]\n",
    "        rank = rankings[i][\"rank\"]\n",
    "        wins = rankings[i][\"record\"][\"wins\"]\n",
    "        losses = rankings[i][\"record\"][\"losses\"]\n",
    "        ties = rankings[i][\"record\"][\"ties\"]\n",
    "        points = rankings[i][\"sort_orders\"][1]\n",
    "        auto = rankings[i][\"sort_orders\"][2]\n",
    "        rotor = rankings[i][\"sort_orders\"][3]\n",
    "        touchpad = rankings[i][\"sort_orders\"][4]\n",
    "        pressure = rankings[i][\"sort_orders\"][5]\n",
    "        df_stats = df_stats.append({\"team\": team, \"rank\": rank, \"wins\": wins, \"losses\": losses, \"ties\": ties, \"points\": points, \"auto\": auto, \"rotor\": rotor, \"touchpad\": touchpad, \"pressure\": pressure}, ignore_index = True)\n",
    "    return df_stats"
   ]
  },
  {
   "cell_type": "code",
   "execution_count": 114,
   "metadata": {
    "collapsed": true
   },
   "outputs": [],
   "source": [
    "# Get the match data for the competition\n",
    "def get_matches(event_key, headers):\n",
    "    \"\"\" \n",
    "        @param event_key: the event we are interested in\n",
    "        @param headers: the authorizations key\n",
    "        @return df_matches: a dataframe with the blue alliance teams and score and the red alliance team and score\n",
    "    \"\"\"\n",
    "    url = base_url + 'event/' + event_key + '/matches/simple'\n",
    "    response = requests.get(url, headers = headers)\n",
    "    data = response.json()\n",
    "    df_matches = pd.DataFrame(columns = [\"b1\", \"b2\", \"b3\", \"bscore\", \"r1\", \"r2\", \"r3\", \"rscore\", \"level\"])\n",
    "    for i in range(0, len(data)):\n",
    "        b1 = data[i][\"alliances\"][\"blue\"][\"team_keys\"][0]\n",
    "        b2 = data[i][\"alliances\"][\"blue\"][\"team_keys\"][1]\n",
    "        b3 = data[i][\"alliances\"][\"blue\"][\"team_keys\"][2]\n",
    "        bscore = data[i][\"alliances\"][\"blue\"][\"score\"]\n",
    "        r1 = data[i][\"alliances\"][\"red\"][\"team_keys\"][0]\n",
    "        r2 = data[i][\"alliances\"][\"red\"][\"team_keys\"][1]\n",
    "        r3 = data[i][\"alliances\"][\"red\"][\"team_keys\"][2]\n",
    "        rscore = data[i][\"alliances\"][\"red\"][\"score\"]\n",
    "        level = data[i][\"comp_level\"]\n",
    "        df_matches = df_matches.append({\"b1\": b1, \"b2\": b2, \"b3\": b3, \"bscore\": bscore, \"r1\": r1, \"r2\": r2, \"r3\": r3, \"rscore\": rscore, \"level\": level}, ignore_index = True)\n",
    "    return df_matches\n",
    "    "
   ]
  },
  {
   "cell_type": "code",
   "execution_count": 115,
   "metadata": {},
   "outputs": [],
   "source": [
    "# Create alliance info like average rank, average OPR, total number of wins, etc\n",
    "def alliance(row, teams):\n",
    "    \"\"\" \n",
    "        @param row: row from lambda fn using apply\n",
    "        @param teams: dataframe with team statistic information\n",
    "        @return : series with information of each alliance\n",
    "    \"\"\"\n",
    "    # blue stats\n",
    "    blue = teams.loc[(teams[\"team\"] == row[0]) | (teams[\"team\"] == row[1]) | (teams[\"team\"] == row[2])]\n",
    "    b_score = row[3]\n",
    "    blue = blue.copy()\n",
    "    blue.drop([\"team\"], axis = 1, inplace = True)\n",
    "    # get the sum of things we want\n",
    "    sum_blue = blue.apply(np.sum, axis = 0)\n",
    "    b_experience = sum_blue[\"experience\"]\n",
    "    b_wins = sum_blue[\"wins\"]\n",
    "    b_losses = sum_blue[\"losses\"]\n",
    "    b_ties = sum_blue[\"ties\"]\n",
    "    b_points = sum_blue[\"points\"]\n",
    "    b_auto = sum_blue[\"auto\"]\n",
    "    b_rotor = sum_blue[\"rotor\"]\n",
    "    b_touchpad = sum_blue[\"touchpad\"]\n",
    "    b_pressure = sum_blue[\"pressure\"]\n",
    "    # get the average of things we want\n",
    "    avg_blue = blue.apply(np.mean, axis = 0)\n",
    "    b_rank = avg_blue[\"rank\"]\n",
    "    b_OPR = avg_blue[\"OPR\"]\n",
    "    b_DPR = avg_blue[\"DPR\"]\n",
    "    b_CCWM = avg_blue[\"CCWM\"]\n",
    "    \n",
    "    # Red stats\n",
    "    red = teams.loc[(teams[\"team\"] == row[0]) | (teams[\"team\"] == row[1]) | (teams[\"team\"] == row[2])]\n",
    "    r_score = row[7]\n",
    "    red = red.copy()\n",
    "    red.drop([\"team\"], axis = 1, inplace = True)\n",
    "    sum_red = red.apply(np.sum, axis = 0)\n",
    "    r_experience = sum_red[\"experience\"]\n",
    "    r_wins = sum_red[\"wins\"]\n",
    "    r_losses = sum_red[\"losses\"]\n",
    "    r_ties = sum_red[\"ties\"]\n",
    "    r_points = sum_red[\"points\"]\n",
    "    r_auto = sum_red[\"auto\"]\n",
    "    r_rotor = sum_red[\"rotor\"]\n",
    "    r_touchpad = sum_red[\"touchpad\"]\n",
    "    r_pressure = sum_red[\"pressure\"]\n",
    "    # get the average of things we want\n",
    "    avg_red = red.apply(np.mean, axis = 0)\n",
    "    r_rank = avg_red[\"rank\"]\n",
    "    r_OPR = avg_red[\"OPR\"]\n",
    "    r_DPR = avg_red[\"DPR\"]\n",
    "    r_CCWM = avg_red[\"CCWM\"]\n",
    "    # get level of competition (qualification vs elimanation)\n",
    "    level = row[\"level\"]\n",
    "    \n",
    "    return pd.Series([b_score, r_score, b_experience, b_wins, b_losses, b_ties, b_points, b_auto, b_rotor, b_touchpad, b_pressure, b_rank, b_OPR, b_DPR, b_CCWM, r_experience, r_wins, r_losses, r_ties, r_points, r_auto, r_rotor, r_touchpad, r_pressure, r_rank, r_OPR, r_DPR, r_CCWM, level])\n",
    "\n",
    "def calculateAlliance(matches, teams):\n",
    "    \"\"\" \n",
    "        @param matches: dataframe with match information\n",
    "        @param teams: dataframe with team statistics\n",
    "        @return df: dataframe with alliance statistics that are summed or averaged of the individual teams\n",
    "    \"\"\"\n",
    "    df = matches.apply(lambda row: alliance(row, teams), axis = 1)\n",
    "    df.columns = [\"b_score\", \"r_score\", \"b_experience\", \"b_wins\", \"b_losses\", \"b_ties\", \"b_points\", \"b_auto\", \"b_rotor\", \"b_touchpad\", \"b_pressure\", \"b_rank\", \"b_OPR\", \"b_DPR\", \"b_CCWM\", \"r_experience\", \"r_wins\", \"r_losses\", \"r_ties\", \"r_points\", \"r_auto\", \"r_rotor\", \"r_touchpad\", \"r_pressure\", \"r_rank\", \"r_OPR\", \"r_DPR\", \"r_CCWM\", \"level\"]\n",
    "    return df"
   ]
  },
  {
   "cell_type": "code",
   "execution_count": 116,
   "metadata": {
    "collapsed": true
   },
   "outputs": [],
   "source": [
    "# Get the offensive player rating (OPR)\n",
    "# https://erikrood.com/Python_References/rows_cols_python.html\n",
    "# https://pandas.pydata.org/pandas-docs/stable/generated/pandas.DataFrame.reset_index.html\n",
    "# http://book.pythontips.com/en/latest/enumerate.html\n",
    "# # https://stackoverflow.com/questions/22963263/creating-a-zero-filled-pandas-data-frame\n",
    "def OPR(teams, qm):\n",
    "    \"\"\" \n",
    "        @param teams: list of team names\n",
    "        @param qm: dataframe with qualification match information\n",
    "        @return OPR: list with OPR scores for each team\n",
    "    \"\"\"\n",
    "    teams.append(\"score\")\n",
    "    m = np.zeros((len(teams), len(teams)))\n",
    "    for counter, team in enumerate(teams):\n",
    "        # create dataframe of only games played by one team\n",
    "        blue_team = qm.loc[(qm[\"b1\"] == team) | (qm[\"b2\"] == team) | (qm[\"b3\"] == team)]\n",
    "        red_team = qm.loc[(qm[\"r1\"] == team) | (qm[\"r2\"] == team) | (qm[\"r3\"] == team)]\n",
    "        indiv_team = pd.concat([blue_team, red_team])\n",
    "        indiv_team.reset_index(inplace = True)\n",
    "        matrix = pd.DataFrame(0, index = np.arange(len(indiv_team)), columns = teams)\n",
    "        # update dataframe with scores and who played in the match\n",
    "        for index, row in indiv_team.iterrows():\n",
    "            b1 = row[\"b1\"]\n",
    "            b2 = row[\"b2\"]\n",
    "            b3 = row[\"b3\"]\n",
    "            blue = []\n",
    "            blue.extend([b1, b2, b3])\n",
    "            bscore = row[\"bscore\"]\n",
    "            r1 = row[\"r1\"]\n",
    "            r2 = row[\"r2\"]\n",
    "            r3 = row[\"r3\"]\n",
    "            red = []\n",
    "            red.extend([r1, r2, r3])\n",
    "            rscore = row[\"rscore\"]\n",
    "            if team in blue:\n",
    "                matrix.loc[index, b1] = 1\n",
    "                matrix.loc[index, b2] = 1\n",
    "                matrix.loc[index, b3] = 1\n",
    "                matrix.loc[index, \"score\"] = bscore\n",
    "            else:\n",
    "                matrix.loc[index, r1] = 1\n",
    "                matrix.loc[index, r2] = 1\n",
    "                matrix.loc[index, r3] = 1\n",
    "                matrix.loc[index, \"score\"] = rscore\n",
    "        new_row = matrix.sum(axis = 0)\n",
    "        m[counter, :] = new_row\n",
    "    M = m.copy()\n",
    "    M = M[:, 0:len(teams)-1]\n",
    "    sM = scipy.sparse.csr_matrix(M)\n",
    "    s = m.copy()\n",
    "    s = s[:, -1]\n",
    "    OPR = scipy.sparse.linalg.lsqr(M,s)[0]\n",
    "    return OPR"
   ]
  },
  {
   "cell_type": "code",
   "execution_count": 117,
   "metadata": {
    "collapsed": true
   },
   "outputs": [],
   "source": [
    "# Get the defensive player rating (DPR)\n",
    "def DPR(teams, qm):\n",
    "    \"\"\" \n",
    "        @param teams: list of team names\n",
    "        @param qm: dataframe with qualification match information\n",
    "        @return DPR: list with DPR scores for each team\n",
    "    \"\"\"\n",
    "    m = np.zeros((len(teams), len(teams)))\n",
    "    for counter, team in enumerate(teams):\n",
    "        # create dataframe of only games played by one team\n",
    "        blue_team = qm.loc[(qm[\"b1\"] == team) | (qm[\"b2\"] == team) | (qm[\"b3\"] == team)]\n",
    "        red_team = qm.loc[(qm[\"r1\"] == team) | (qm[\"r2\"] == team) | (qm[\"r3\"] == team)]\n",
    "        indiv_team = pd.concat([blue_team, red_team])\n",
    "        indiv_team.reset_index(inplace = True)\n",
    "        matrix = pd.DataFrame(0, index = np.arange(len(indiv_team)), columns = teams)\n",
    "        # update dataframe with scores and who played in the match\n",
    "        for index, row in indiv_team.iterrows():\n",
    "            b1 = row[\"b1\"]\n",
    "            b2 = row[\"b2\"]\n",
    "            b3 = row[\"b3\"]\n",
    "            blue = []\n",
    "            blue.extend([b1, b2, b3])\n",
    "            bscore = row[\"bscore\"]\n",
    "            r1 = row[\"r1\"]\n",
    "            r2 = row[\"r2\"]\n",
    "            r3 = row[\"r3\"]\n",
    "            red = []\n",
    "            red.extend([r1, r2, r3])\n",
    "            rscore = row[\"rscore\"]\n",
    "            if team in blue:\n",
    "                matrix.loc[index, b1] = 1\n",
    "                matrix.loc[index, b2] = 1\n",
    "                matrix.loc[index, b3] = 1\n",
    "                matrix.loc[index, \"score\"] = rscore\n",
    "            else:\n",
    "                matrix.loc[index, r1] = 1\n",
    "                matrix.loc[index, r2] = 1\n",
    "                matrix.loc[index, r3] = 1\n",
    "                matrix.loc[index, \"score\"] = bscore\n",
    "        new_row = matrix.sum(axis = 0)\n",
    "        m[counter, :] = new_row\n",
    "    M = m.copy()\n",
    "    M = M[:, 0:len(teams)-1]\n",
    "    #https://docs.scipy.org/doc/scipy-0.18.1/reference/generated/scipy.sparse.linalg.lsqr.html\n",
    "    #https://stackoverflow.com/questions/7922487/how-to-transform-numpy-matrix-or-array-to-scipy-sparse-matrix\n",
    "    sM = scipy.sparse.csr_matrix(M)\n",
    "    s = m.copy()\n",
    "    s = s[:, -1]\n",
    "    DPR = scipy.sparse.linalg.lsqr(sM, s)[0]\n",
    "    return DPR"
   ]
  },
  {
   "cell_type": "code",
   "execution_count": 118,
   "metadata": {
    "collapsed": true
   },
   "outputs": [],
   "source": [
    "def CCWM(row):\n",
    "    \"\"\"\n",
    "    @param row: row from apply fn\n",
    "    @return: CCWM for teams\n",
    "    \"\"\"\n",
    "    return row[\"OPR\"] - row[\"DPR\"]"
   ]
  },
  {
   "cell_type": "code",
   "execution_count": 119,
   "metadata": {
    "collapsed": true
   },
   "outputs": [],
   "source": [
    "# Function to get OPR, DPR, and Calculated Contribution to Winning Margin (CCWM) and put it in one dataframe\n",
    "def get_OPR(teams, qm):\n",
    "    \"\"\" \n",
    "        @param teams: list of team names\n",
    "        @param qm: dataframe with qualification match information\n",
    "        @return df_OPR: dataframe with OPR, DPR, and CCWM for each team\n",
    "    \n",
    "    \"\"\"\n",
    "    opr = OPR(teams, qm)\n",
    "    dpr = DPR(teams, qm)\n",
    "    df_OPR = pd.DataFrame(columns = [\"team\", \"OPR\", \"DPR\", \"CCWM\"])\n",
    "    for counter, team in enumerate(teams):\n",
    "        if team != \"score\":\n",
    "            df_OPR = df_OPR.append({\"team\": team, \"OPR\": opr[counter], \"DPR\": dpr[counter]}, ignore_index = True)\n",
    "    df_OPR[\"CCWM\"] = df_OPR.apply(CCWM, axis = 1)\n",
    "    return df_OPR"
   ]
  },
  {
   "cell_type": "code",
   "execution_count": 120,
   "metadata": {
    "collapsed": true
   },
   "outputs": [],
   "source": [
    "def win_margin(row):\n",
    "    \"\"\"\n",
    "    @param row: row from apply function\n",
    "    @return: win margin of blue alliance to red alliance\n",
    "    \"\"\"\n",
    "    return row[\"b_score\"] - row[\"r_score\"]"
   ]
  },
  {
   "cell_type": "markdown",
   "metadata": {},
   "source": [
    "Now let's scrape the data from the Blue Alliance API. We will get the info for all of the events in 2017. It's possible that a team competed in multiple events and their rankings and statistics might be different for each event so we will process each event separately and save the event data to a csv."
   ]
  },
  {
   "cell_type": "code",
   "execution_count": 121,
   "metadata": {},
   "outputs": [
    {
     "name": "stdout",
     "output_type": "stream",
     "text": [
      "No data for 2017aroz\n",
      "No data for 2017audd\n",
      "No data for 2017aurb\n",
      "No data for 2017bt\n",
      "No data for 2017cacc\n",
      "No data for 2017cacg\n",
      "No data for 2017capb\n",
      "No data for 2017ckw0\n",
      "The exact solution is  x = 0                              \n",
      "The exact solution is  x = 0                              \n",
      "The exact solution is  x = 0                              \n",
      "The exact solution is  x = 0                              \n",
      "No data for 2017crc\n",
      "No data for 2017crc2\n",
      "No data for 2017ctss\n",
      "No data for 2017flmm\n",
      "No data for 2017flrc\n",
      "No data for 2017gagr\n",
      "No data for 2017glbbb\n",
      "No data for 2017havoc\n",
      "No data for 2017inbbb\n",
      "No data for 2017incm\n",
      "No data for 2017inrg\n",
      "No data for 2017iroc\n",
      "No data for 2017kscup\n",
      "No data for 2017kybb\n",
      "No data for 2017mabsb\n",
      "No data for 2017marc\n",
      "No data for 2017mems\n",
      "No data for 2017mibb\n",
      "The exact solution is  x = 0                              \n",
      "The exact solution is  x = 0                              \n",
      "No data for 2017mike0\n",
      "No data for 2017mnmn\n",
      "No data for 2017mnw0\n",
      "No data for 2017mogw\n",
      "No data for 2017mosc\n",
      "No data for 2017mttd\n",
      "No data for 2017mvrc\n",
      "No data for 2017ncth2\n",
      "The exact solution is  x = 0                              \n",
      "The exact solution is  x = 0                              \n",
      "No data for 2017nhmm\n",
      "No data for 2017njbe\n",
      "No data for 2017njdd\n",
      "No data for 2017nyhhh\n",
      "No data for 2017nyhvr\n",
      "No data for 2017nyrr\n",
      "No data for 2017nytv\n",
      "No data for 2017ohri\n",
      "No data for 2017onsc\n",
      "No data for 2017orbb\n",
      "No data for 2017orgg\n",
      "No data for 2017pagp\n",
      "No data for 2017parr\n",
      "No data for 2017pascs\n",
      "No data for 2017scriw\n",
      "No data for 2017tnvfrr\n",
      "No data for 2017turk\n",
      "No data for 2017txntx\n",
      "No data for 2017txrm\n",
      "No data for 2017vamars\n",
      "No data for 2017varr\n",
      "No data for 2017warr\n",
      "No data for 2017wmri\n",
      "No data for 2017wowcmp\n"
     ]
    }
   ],
   "source": [
    "# Generate a df with all of the features and targets we want and save to file for each event\n",
    "path = 'C:/Users/Ithier/Documents/CSCI 29/Grad Project/FIRST/Data/'\n",
    "event_keys_toload = []\n",
    "for event in event_keys:\n",
    "    try:\n",
    "        experience = get_experience(event, headers)\n",
    "        stats = get_stats(event, headers)\n",
    "        matches = get_matches(event, headers)\n",
    "        # get quarterfinal matches\n",
    "        qm = matches.loc[matches[\"level\"] == \"qm\"]\n",
    "        # https://stackoverflow.com/questions/1966207/converting-numpy-array-into-python-list-structure\n",
    "        teams = experience[\"team\"].tolist()\n",
    "        opr = get_OPR(teams, qm)\n",
    "        my_dfs = [experience, stats, opr]\n",
    "        total_stats = reduce(lambda x,y: pd.merge(x,y, on = \"team\"), my_dfs)\n",
    "        df = calculateAlliance(matches, total_stats)\n",
    "        df[\"win_margin\"] = df.apply(win_margin, axis = 1)\n",
    "        name = path + event + '.csv'\n",
    "        df.to_csv(name)\n",
    "        event_keys_toload.append(event)\n",
    "    except:\n",
    "        print(\"No data for \" + event)"
   ]
  },
  {
   "cell_type": "code",
   "execution_count": 123,
   "metadata": {},
   "outputs": [
    {
     "data": {
      "text/plain": [
       "197"
      ]
     },
     "execution_count": 123,
     "metadata": {},
     "output_type": "execute_result"
    }
   ],
   "source": [
    "len(event_keys_toload)"
   ]
  },
  {
   "cell_type": "markdown",
   "metadata": {},
   "source": [
    "Now let's load the data from each of the events and make one big dataframe with it."
   ]
  },
  {
   "cell_type": "code",
   "execution_count": null,
   "metadata": {},
   "outputs": [],
   "source": [
    "# Load all of the event data and make one big dataframe\n",
    "for counter, event in enumerate(event_keys_toload):\n",
    "    filename = path + event + '.csv'\n",
    "    if counter == 0:\n",
    "        combined_df = pd.DataFrame.from_csv(filename)\n",
    "    else:\n",
    "        df = pd.DataFrame.from_csv(filename)\n",
    "        combined_df = combined_df.append(df)\n",
    "\n",
    "# Save dataframe to file\n",
    "name = path + 'TotalData.csv'\n",
    "combined_df.to_csv(name)"
   ]
  },
  {
   "cell_type": "markdown",
   "metadata": {},
   "source": [
    "We have all the data we need. Next we need to separate it into testing and training. The API only allows us to get data on the teams for the qualification matches as a whole. You can't look at the data for something like autonomous for only the first few games. As a result we'll have to train using the qualification matches and test on the elimination matches."
   ]
  },
  {
   "cell_type": "code",
   "execution_count": null,
   "metadata": {
    "collapsed": true
   },
   "outputs": [],
   "source": []
  }
 ],
 "metadata": {
  "kernelspec": {
   "display_name": "Python 3",
   "language": "python",
   "name": "python3"
  },
  "language_info": {
   "codemirror_mode": {
    "name": "ipython",
    "version": 3
   },
   "file_extension": ".py",
   "mimetype": "text/x-python",
   "name": "python",
   "nbconvert_exporter": "python",
   "pygments_lexer": "ipython3",
   "version": "3.6.1"
  }
 },
 "nbformat": 4,
 "nbformat_minor": 2
}
